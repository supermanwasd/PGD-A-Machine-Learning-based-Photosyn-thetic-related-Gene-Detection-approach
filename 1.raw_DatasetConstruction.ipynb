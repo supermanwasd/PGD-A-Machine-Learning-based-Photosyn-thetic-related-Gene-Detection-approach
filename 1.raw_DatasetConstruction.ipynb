{
 "cells": [
  {
   "cell_type": "code",
   "execution_count": 1,
   "metadata": {},
   "outputs": [],
   "source": [
    "import pandas as pd"
   ]
  },
  {
   "cell_type": "code",
   "execution_count": 2,
   "metadata": {},
   "outputs": [],
   "source": [
    "def guang(x):\n",
    "    if \"Photosynthesis\" in x:\n",
    "        return 1\n",
    "    if \"photo\" in x:\n",
    "        return 1\n",
    "    if \"Chromatin organisation\" in x:\n",
    "        return 0\n",
    "    if \"Cytoskeleton organisation\" in x:\n",
    "        return 0\n",
    "    if \"not assigned\" in x:\n",
    "        return 3\n",
    "    else:\n",
    "        return 2"
   ]
  },
  {
   "cell_type": "code",
   "execution_count": 3,
   "metadata": {},
   "outputs": [],
   "source": [
    "maize_an = pd.read_csv(\"raw_data/Zea_Mercator4.csv\")\n",
    "maize_an.rename(columns={'geneid':'GeneID','NAME':'MAIZE_MAPMAN_CATEGORY'}, inplace = True)\n",
    "maize_an = maize_an[['GeneID','MAIZE_MAPMAN_CATEGORY']]"
   ]
  },
  {
   "cell_type": "code",
   "execution_count": 4,
   "metadata": {},
   "outputs": [
    {
     "data": {
      "text/plain": [
       "42976"
      ]
     },
     "execution_count": 4,
     "metadata": {},
     "output_type": "execute_result"
    }
   ],
   "source": [
    "len(maize_an)"
   ]
  },
  {
   "cell_type": "markdown",
   "metadata": {},
   "source": [
    "# ATP4"
   ]
  },
  {
   "cell_type": "code",
   "execution_count": 5,
   "metadata": {},
   "outputs": [],
   "source": [
    "LL_ATP4_plus4 = pd.read_csv(\"raw_data/LL-ATP4-plus4_all_results.csv\")\n",
    "LL_ATP4_plus4.rename(columns={'Unnamed: 0':'GeneID'},inplace = True)\n",
    "HL_ATP4_plus4 = pd.read_csv(\"raw_data/HL-ATP4-plus4_all_results.csv\")\n",
    "HL_ATP4_plus4.rename(columns={'Unnamed: 0':'GeneID'},inplace = True)\n",
    "LL_ATP4_minus1 = pd.read_csv(\"raw_data/LL-ATP4-minus1_all_results.csv\")\n",
    "LL_ATP4_minus1.rename(columns={'Unnamed: 0':'GeneID'},inplace = True)\n",
    "HL_ATP4_minus1 = pd.read_csv(\"raw_data/HL-ATP4-minus1_all_results.csv\")\n",
    "HL_ATP4_minus1.rename(columns={'Unnamed: 0':'GeneID'},inplace = True)"
   ]
  },
  {
   "cell_type": "code",
   "execution_count": 6,
   "metadata": {},
   "outputs": [],
   "source": [
    "df_ATP4_fpkm = pd.read_csv(\"raw_data/ATP4_fpkm.csv\")"
   ]
  },
  {
   "cell_type": "code",
   "execution_count": 7,
   "metadata": {},
   "outputs": [],
   "source": [
    "LL_ATP4_plus4 = LL_ATP4_plus4.dropna()\n",
    "HL_ATP4_plus4 = HL_ATP4_plus4.dropna()\n",
    "LL_ATP4_minus1 = LL_ATP4_minus1.dropna()\n",
    "HL_ATP4_minus1 = HL_ATP4_minus1.dropna()"
   ]
  },
  {
   "cell_type": "code",
   "execution_count": 8,
   "metadata": {},
   "outputs": [
    {
     "data": {
      "text/plain": [
       "Index(['GeneID', 'baseMean', 'log2FoldChange', 'lfcSE', 'stat', 'pvalue',\n",
       "       'padj'],\n",
       "      dtype='object')"
      ]
     },
     "execution_count": 8,
     "metadata": {},
     "output_type": "execute_result"
    }
   ],
   "source": [
    "LL_ATP4_plus4.columns"
   ]
  },
  {
   "cell_type": "code",
   "execution_count": 9,
   "metadata": {},
   "outputs": [
    {
     "data": {
      "text/plain": [
       "Index(['GeneID', 'HL-ATP4-M-1-1', 'HL-ATP4-M-1-2', 'HL-ATP4-M-1-3',\n",
       "       'HL-ATP4-M-4-1', 'HL-ATP4-M-4-2', 'HL-ATP4-M-4-3', 'HL-ATP4-W-1-1',\n",
       "       'HL-ATP4-W-1-2', 'HL-ATP4-W-1-3', 'HL-ATP4-W-4-1', 'HL-ATP4-W-4-2',\n",
       "       'HL-ATP4-W-4-3', 'LL-ATP4-M-1-1', 'LL-ATP4-M-1-2', 'LL-ATP4-M-1-3',\n",
       "       'LL-ATP4-M-4-1', 'LL-ATP4-M-4-2', 'LL-ATP4-M-4-3', 'LL-ATP4-W-1-1',\n",
       "       'LL-ATP4-W-1-2', 'LL-ATP4-W-1-3', 'LL-ATP4-W-4-1', 'LL-ATP4-W-4-2',\n",
       "       'LL-ATP4-W-4-3'],\n",
       "      dtype='object')"
      ]
     },
     "execution_count": 9,
     "metadata": {},
     "output_type": "execute_result"
    }
   ],
   "source": [
    "df_ATP4_fpkm.columns"
   ]
  },
  {
   "cell_type": "code",
   "execution_count": 10,
   "metadata": {},
   "outputs": [],
   "source": [
    "df_ATP4_fpkm[\"HL-ATP4-M-1\"]=(df_ATP4_fpkm['HL-ATP4-M-1-1']+df_ATP4_fpkm['HL-ATP4-M-1-2']+df_ATP4_fpkm['HL-ATP4-M-1-3'])/3\n",
    "df_ATP4_fpkm[\"HL-ATP4-W-1\"]=(df_ATP4_fpkm['HL-ATP4-W-1-1']+df_ATP4_fpkm['HL-ATP4-W-1-2']+df_ATP4_fpkm['HL-ATP4-W-1-3'])/3\n",
    "df_ATP4_fpkm[\"LL-ATP4-M-1\"]=(df_ATP4_fpkm['LL-ATP4-M-1-1']+df_ATP4_fpkm['LL-ATP4-M-1-2']+df_ATP4_fpkm['LL-ATP4-M-1-3'])/3\n",
    "df_ATP4_fpkm[\"LL-ATP4-W-1\"]=(df_ATP4_fpkm['LL-ATP4-W-1-1']+df_ATP4_fpkm['LL-ATP4-W-1-2']+df_ATP4_fpkm['LL-ATP4-W-1-3'])/3"
   ]
  },
  {
   "cell_type": "code",
   "execution_count": 11,
   "metadata": {},
   "outputs": [],
   "source": [
    "df_ATP4_fpkm[\"HL-ATP4-M-4\"]=(df_ATP4_fpkm['HL-ATP4-M-4-1']+df_ATP4_fpkm['HL-ATP4-M-4-2']+df_ATP4_fpkm['HL-ATP4-M-4-3'])/3\n",
    "df_ATP4_fpkm[\"HL-ATP4-W-4\"]=(df_ATP4_fpkm['HL-ATP4-W-4-1']+df_ATP4_fpkm['HL-ATP4-W-4-2']+df_ATP4_fpkm['HL-ATP4-W-4-3'])/3\n",
    "df_ATP4_fpkm[\"LL-ATP4-M-4\"]=(df_ATP4_fpkm['LL-ATP4-M-4-1']+df_ATP4_fpkm['LL-ATP4-M-4-2']+df_ATP4_fpkm['LL-ATP4-M-4-3'])/3\n",
    "df_ATP4_fpkm[\"LL-ATP4-W-4\"]=(df_ATP4_fpkm['LL-ATP4-W-4-1']+df_ATP4_fpkm['LL-ATP4-W-4-2']+df_ATP4_fpkm['LL-ATP4-W-4-3'])/3"
   ]
  },
  {
   "cell_type": "code",
   "execution_count": 12,
   "metadata": {},
   "outputs": [],
   "source": [
    "df_ATP4_fpkm = df_ATP4_fpkm[(df_ATP4_fpkm[\"HL-ATP4-W-1\"]+df_ATP4_fpkm[\"HL-ATP4-W-4\"]) != 0]"
   ]
  },
  {
   "cell_type": "code",
   "execution_count": 13,
   "metadata": {},
   "outputs": [],
   "source": [
    "df_ATP4_fpkm = df_ATP4_fpkm.merge(HL_ATP4_minus1,on = 'GeneID')\n",
    "df_ATP4_fpkm.rename(columns={'log2FoldChange':'ATP4_HL_minus1_log2FC','padj':'ATP4_HL_minus1_FDR',\n",
    "                                  'baseMean':'ATP4_HL_minus1_baseMean','lfcSE':'ATP4_HL_minus1_lfcSE',\n",
    "                                  'stat':'ATP4_HL_minus1_stat','pvalue':'ATP4_HL_minus1_pvalue'\n",
    "                                 }, inplace = True)\n",
    "df_ATP4_fpkm = df_ATP4_fpkm.merge(HL_ATP4_plus4,on = 'GeneID')\n",
    "df_ATP4_fpkm.rename(columns={'log2FoldChange':'ATP4_HL_plus4_log2FC','ATP4_padj':'HL_plus4_FDR',\n",
    "                                 'baseMean':'ATP4_HL_plus4_baseMean','lfcSE':'ATP4_HL_plus4_lfcSE',\n",
    "                                  'stat':'ATP4_HL_plus4_stat','pvalue':'ATP4_HL_plus4_pvalue'\n",
    "                                 }, inplace = True)\n",
    "df_ATP4_fpkm = df_ATP4_fpkm.merge(LL_ATP4_minus1,on = 'GeneID')\n",
    "df_ATP4_fpkm.rename(columns={'log2FoldChange':'ATP4_LL_minus1_log2FC','padj':'ATP4_LL_minus1_FDR',\n",
    "                                 'baseMean':'ATP4_LL_minus1_baseMean','lfcSE':'ATP4_LL_minus1_lfcSE',\n",
    "                                  'stat':'ATP4_LL_minus1_stat','pvalue':'ATP4_LL_minus1_pvalue'\n",
    "                                 }, inplace = True)\n",
    "df_ATP4_fpkm = df_ATP4_fpkm.merge(LL_ATP4_plus4,on = 'GeneID')\n",
    "df_ATP4_fpkm.rename(columns={'log2FoldChange':'ATP4_LL_plus4_log2FC','padj':'ATP4_LL_plus4_FDR',\n",
    "                                 'baseMean':'ATP4_LL_plus4_baseMean','lfcSE':'ATP4_LL_plus4_lfcSE',\n",
    "                                  'stat':'ATP4_LL_plus4_stat','pvalue':'ATP4_LL_plus4_pvalue'\n",
    "                                 }, inplace = True)"
   ]
  },
  {
   "cell_type": "code",
   "execution_count": 14,
   "metadata": {},
   "outputs": [
    {
     "data": {
      "text/plain": [
       "Index(['GeneID', 'HL-ATP4-M-1-1', 'HL-ATP4-M-1-2', 'HL-ATP4-M-1-3',\n",
       "       'HL-ATP4-M-4-1', 'HL-ATP4-M-4-2', 'HL-ATP4-M-4-3', 'HL-ATP4-W-1-1',\n",
       "       'HL-ATP4-W-1-2', 'HL-ATP4-W-1-3', 'HL-ATP4-W-4-1', 'HL-ATP4-W-4-2',\n",
       "       'HL-ATP4-W-4-3', 'LL-ATP4-M-1-1', 'LL-ATP4-M-1-2', 'LL-ATP4-M-1-3',\n",
       "       'LL-ATP4-M-4-1', 'LL-ATP4-M-4-2', 'LL-ATP4-M-4-3', 'LL-ATP4-W-1-1',\n",
       "       'LL-ATP4-W-1-2', 'LL-ATP4-W-1-3', 'LL-ATP4-W-4-1', 'LL-ATP4-W-4-2',\n",
       "       'LL-ATP4-W-4-3', 'HL-ATP4-M-1', 'HL-ATP4-W-1', 'LL-ATP4-M-1',\n",
       "       'LL-ATP4-W-1', 'HL-ATP4-M-4', 'HL-ATP4-W-4', 'LL-ATP4-M-4',\n",
       "       'LL-ATP4-W-4', 'ATP4_HL_minus1_baseMean', 'ATP4_HL_minus1_log2FC',\n",
       "       'ATP4_HL_minus1_lfcSE', 'ATP4_HL_minus1_stat', 'ATP4_HL_minus1_pvalue',\n",
       "       'ATP4_HL_minus1_FDR', 'ATP4_HL_plus4_baseMean', 'ATP4_HL_plus4_log2FC',\n",
       "       'ATP4_HL_plus4_lfcSE', 'ATP4_HL_plus4_stat', 'ATP4_HL_plus4_pvalue',\n",
       "       'padj_x', 'ATP4_LL_minus1_baseMean', 'ATP4_LL_minus1_log2FC',\n",
       "       'ATP4_LL_minus1_lfcSE', 'ATP4_LL_minus1_stat', 'ATP4_LL_minus1_pvalue',\n",
       "       'padj_y', 'ATP4_LL_plus4_baseMean', 'ATP4_LL_plus4_log2FC',\n",
       "       'ATP4_LL_plus4_lfcSE', 'ATP4_LL_plus4_stat', 'ATP4_LL_plus4_pvalue',\n",
       "       'ATP4_LL_plus4_FDR'],\n",
       "      dtype='object')"
      ]
     },
     "execution_count": 14,
     "metadata": {},
     "output_type": "execute_result"
    }
   ],
   "source": [
    "df_ATP4_fpkm.columns"
   ]
  },
  {
   "cell_type": "code",
   "execution_count": 15,
   "metadata": {},
   "outputs": [],
   "source": [
    "df_ATP4_fpkm.to_csv(\"feature_dataset/df_ATP4_Dataset.csv\",index=False)"
   ]
  },
  {
   "cell_type": "markdown",
   "metadata": {},
   "source": [
    "# bsd2"
   ]
  },
  {
   "cell_type": "code",
   "execution_count": 16,
   "metadata": {},
   "outputs": [],
   "source": [
    "LL_bsd2_plus4 = pd.read_csv(\"raw_data/LL-bsd2-plus4_all_results.csv\")\n",
    "LL_bsd2_plus4.rename(columns={'Unnamed: 0':'GeneID'},inplace = True)\n",
    "HL_bsd2_plus4 = pd.read_csv(\"raw_data/HL-bsd2-plus4_all_results.csv\")\n",
    "HL_bsd2_plus4.rename(columns={'Unnamed: 0':'GeneID'},inplace = True)\n",
    "LL_bsd2_minus1 = pd.read_csv(\"raw_data/LL-bsd2-minus1_all_results.csv\")\n",
    "LL_bsd2_minus1.rename(columns={'Unnamed: 0':'GeneID'},inplace = True)\n",
    "HL_bsd2_minus1 = pd.read_csv(\"raw_data/HL-bsd2-minus1_all_results.csv\")\n",
    "HL_bsd2_minus1.rename(columns={'Unnamed: 0':'GeneID'},inplace = True)"
   ]
  },
  {
   "cell_type": "code",
   "execution_count": 17,
   "metadata": {},
   "outputs": [],
   "source": [
    "df_bsd2_fpkm = pd.read_csv(\"raw_data/bsd2_fpkm.csv\")\n",
    "LL_bsd2_plus4 = LL_bsd2_plus4.dropna()\n",
    "HL_bsd2_plus4 = HL_bsd2_plus4.dropna()\n",
    "LL_bsd2_minus1 = LL_bsd2_minus1.dropna()\n",
    "HL_bsd2_minus1 = HL_bsd2_minus1.dropna()"
   ]
  },
  {
   "cell_type": "code",
   "execution_count": 18,
   "metadata": {},
   "outputs": [
    {
     "data": {
      "text/plain": [
       "Index(['GeneID', 'HL-bsd2M-1-1', 'HL-bsd2M-1-2', 'HL-bsd2M-1-3',\n",
       "       'HL-bsd2M-4-1', 'HL-bsd2M-4-2', 'HL-bsd2M-4-3', 'HL-bsd2W-1-1',\n",
       "       'HL-bsd2W-1-2', 'HL-bsd2W-1-3', 'HL-bsd2W-4-1', 'HL-bsd2W-4-2',\n",
       "       'HL-bsd2W-4-3', 'LL-bsd2M-1-1', 'LL-bsd2M-1-2', 'LL-bsd2M-1-3',\n",
       "       'LL-bsd2M-4-1', 'LL-bsd2M-4-2', 'LL-bsd2M-4-3', 'LL-bsd2W-1-1',\n",
       "       'LL-bsd2W-1-2', 'LL-bsd2W-1-3', 'LL-bsd2W-4-1', 'LL-bsd2W-4-2',\n",
       "       'LL-bsd2W-4-3'],\n",
       "      dtype='object')"
      ]
     },
     "execution_count": 18,
     "metadata": {},
     "output_type": "execute_result"
    }
   ],
   "source": [
    "df_bsd2_fpkm.columns"
   ]
  },
  {
   "cell_type": "code",
   "execution_count": 19,
   "metadata": {},
   "outputs": [],
   "source": [
    "df_bsd2_fpkm[\"HL-bsd2M-1\"]=(df_bsd2_fpkm['HL-bsd2M-1-1']+df_bsd2_fpkm['HL-bsd2M-1-2']+df_bsd2_fpkm['HL-bsd2M-1-3'])/3\n",
    "df_bsd2_fpkm[\"HL-bsd2W-1\"]=(df_bsd2_fpkm['HL-bsd2W-1-1']+df_bsd2_fpkm['HL-bsd2W-1-2']+df_bsd2_fpkm['HL-bsd2W-1-3'])/3\n",
    "df_bsd2_fpkm[\"LL-bsd2M-1\"]=(df_bsd2_fpkm['LL-bsd2M-1-1']+df_bsd2_fpkm['LL-bsd2M-1-2']+df_bsd2_fpkm['LL-bsd2M-1-3'])/3\n",
    "df_bsd2_fpkm[\"LL-bsd2W-1\"]=(df_bsd2_fpkm['LL-bsd2W-1-1']+df_bsd2_fpkm['LL-bsd2W-1-2']+df_bsd2_fpkm['LL-bsd2W-1-3'])/3"
   ]
  },
  {
   "cell_type": "code",
   "execution_count": 20,
   "metadata": {},
   "outputs": [],
   "source": [
    "df_bsd2_fpkm[\"HL-bsd2M-4\"]=(df_bsd2_fpkm['HL-bsd2M-4-1']+df_bsd2_fpkm['HL-bsd2M-4-2']+df_bsd2_fpkm['HL-bsd2M-4-3'])/3\n",
    "df_bsd2_fpkm[\"HL-bsd2W-4\"]=(df_bsd2_fpkm['HL-bsd2W-4-1']+df_bsd2_fpkm['HL-bsd2W-4-2']+df_bsd2_fpkm['HL-bsd2W-4-3'])/3\n",
    "df_bsd2_fpkm[\"LL-bsd2M-4\"]=(df_bsd2_fpkm['LL-bsd2M-4-1']+df_bsd2_fpkm['LL-bsd2M-4-2']+df_bsd2_fpkm['LL-bsd2M-4-3'])/3\n",
    "df_bsd2_fpkm[\"LL-bsd2W-4\"]=(df_bsd2_fpkm['LL-bsd2W-4-1']+df_bsd2_fpkm['LL-bsd2W-4-2']+df_bsd2_fpkm['LL-bsd2W-4-3'])/3"
   ]
  },
  {
   "cell_type": "code",
   "execution_count": 21,
   "metadata": {},
   "outputs": [],
   "source": [
    "df_bsd2_fpkm = df_bsd2_fpkm[(df_bsd2_fpkm[\"HL-bsd2W-1\"]+df_bsd2_fpkm[\"HL-bsd2W-4\"]) != 0]"
   ]
  },
  {
   "cell_type": "code",
   "execution_count": 22,
   "metadata": {},
   "outputs": [],
   "source": [
    "df_bsd2_fpkm = df_bsd2_fpkm.merge(HL_bsd2_minus1,on = 'GeneID')\n",
    "df_bsd2_fpkm.rename(columns={'log2FoldChange':'bsd2_HL_minus1_log2FC','padj':'bsd2_HL_minus1_FDR',\n",
    "                                  'baseMean':'bsd2_HL_minus1_baseMean','lfcSE':'bsd2_HL_minus1_lfcSE',\n",
    "                                  'stat':'bsd2_HL_minus1_stat','pvalue':'bsd2_HL_minus1_pvalue'\n",
    "                                 }, inplace = True)\n",
    "df_bsd2_fpkm = df_bsd2_fpkm.merge(HL_bsd2_plus4,on = 'GeneID')\n",
    "df_bsd2_fpkm.rename(columns={'log2FoldChange':'bsd2_HL_plus4_log2FC','bsd2_padj':'HL_plus4_FDR',\n",
    "                                 'baseMean':'bsd2_HL_plus4_baseMean','lfcSE':'bsd2_HL_plus4_lfcSE',\n",
    "                                  'stat':'bsd2_HL_plus4_stat','pvalue':'bsd2_HL_plus4_pvalue'\n",
    "                                 }, inplace = True)\n",
    "df_bsd2_fpkm = df_bsd2_fpkm.merge(LL_bsd2_minus1,on = 'GeneID')\n",
    "df_bsd2_fpkm.rename(columns={'log2FoldChange':'bsd2_LL_minus1_log2FC','padj':'bsd2_LL_minus1_FDR',\n",
    "                                 'baseMean':'bsd2_LL_minus1_baseMean','lfcSE':'bsd2_LL_minus1_lfcSE',\n",
    "                                  'stat':'bsd2_LL_minus1_stat','pvalue':'bsd2_LL_minus1_pvalue'\n",
    "                                 }, inplace = True)\n",
    "df_bsd2_fpkm = df_bsd2_fpkm.merge(LL_bsd2_plus4,on = 'GeneID')\n",
    "df_bsd2_fpkm.rename(columns={'log2FoldChange':'bsd2_LL_plus4_log2FC','padj':'bsd2_LL_plus4_FDR',\n",
    "                                 'baseMean':'bsd2_LL_plus4_baseMean','lfcSE':'bsd2_LL_plus4_lfcSE',\n",
    "                                  'stat':'bsd2_LL_plus4_stat','pvalue':'bsd2_LL_plus4_pvalue'\n",
    "                                 }, inplace = True)"
   ]
  },
  {
   "cell_type": "code",
   "execution_count": 23,
   "metadata": {},
   "outputs": [
    {
     "data": {
      "text/plain": [
       "Index(['GeneID', 'HL-bsd2M-1-1', 'HL-bsd2M-1-2', 'HL-bsd2M-1-3',\n",
       "       'HL-bsd2M-4-1', 'HL-bsd2M-4-2', 'HL-bsd2M-4-3', 'HL-bsd2W-1-1',\n",
       "       'HL-bsd2W-1-2', 'HL-bsd2W-1-3', 'HL-bsd2W-4-1', 'HL-bsd2W-4-2',\n",
       "       'HL-bsd2W-4-3', 'LL-bsd2M-1-1', 'LL-bsd2M-1-2', 'LL-bsd2M-1-3',\n",
       "       'LL-bsd2M-4-1', 'LL-bsd2M-4-2', 'LL-bsd2M-4-3', 'LL-bsd2W-1-1',\n",
       "       'LL-bsd2W-1-2', 'LL-bsd2W-1-3', 'LL-bsd2W-4-1', 'LL-bsd2W-4-2',\n",
       "       'LL-bsd2W-4-3', 'HL-bsd2M-1', 'HL-bsd2W-1', 'LL-bsd2M-1', 'LL-bsd2W-1',\n",
       "       'HL-bsd2M-4', 'HL-bsd2W-4', 'LL-bsd2M-4', 'LL-bsd2W-4',\n",
       "       'bsd2_HL_minus1_baseMean', 'bsd2_HL_minus1_log2FC',\n",
       "       'bsd2_HL_minus1_lfcSE', 'bsd2_HL_minus1_stat', 'bsd2_HL_minus1_pvalue',\n",
       "       'bsd2_HL_minus1_FDR', 'bsd2_HL_plus4_baseMean', 'bsd2_HL_plus4_log2FC',\n",
       "       'bsd2_HL_plus4_lfcSE', 'bsd2_HL_plus4_stat', 'bsd2_HL_plus4_pvalue',\n",
       "       'padj_x', 'bsd2_LL_minus1_baseMean', 'bsd2_LL_minus1_log2FC',\n",
       "       'bsd2_LL_minus1_lfcSE', 'bsd2_LL_minus1_stat', 'bsd2_LL_minus1_pvalue',\n",
       "       'padj_y', 'bsd2_LL_plus4_baseMean', 'bsd2_LL_plus4_log2FC',\n",
       "       'bsd2_LL_plus4_lfcSE', 'bsd2_LL_plus4_stat', 'bsd2_LL_plus4_pvalue',\n",
       "       'bsd2_LL_plus4_FDR'],\n",
       "      dtype='object')"
      ]
     },
     "execution_count": 23,
     "metadata": {},
     "output_type": "execute_result"
    }
   ],
   "source": [
    "df_bsd2_fpkm.columns"
   ]
  },
  {
   "cell_type": "code",
   "execution_count": 24,
   "metadata": {},
   "outputs": [],
   "source": [
    "df_bsd2_fpkm.to_csv(\"feature_dataset/df_bsd2_Dataset.csv\",index=False)"
   ]
  },
  {
   "cell_type": "markdown",
   "metadata": {},
   "source": [
    "# pyg56"
   ]
  },
  {
   "cell_type": "code",
   "execution_count": 25,
   "metadata": {},
   "outputs": [],
   "source": [
    "LL_pyg56_plus4 = pd.read_csv(\"raw_data/LL-pyg56-minus1_all_results.csv\")\n",
    "LL_pyg56_plus4.rename(columns={'Unnamed: 0':'GeneID'},inplace = True)\n",
    "HL_pyg56_plus4 = pd.read_csv(\"raw_data/HL-pyg56-plus4_all_results.csv\")\n",
    "HL_pyg56_plus4.rename(columns={'Unnamed: 0':'GeneID'},inplace = True)\n",
    "LL_pyg56_minus1 = pd.read_csv(\"raw_data/LL-pyg56-minus1_all_results.csv\")\n",
    "LL_pyg56_minus1.rename(columns={'Unnamed: 0':'GeneID'},inplace = True)\n",
    "HL_pyg56_minus1 = pd.read_csv(\"raw_data/HL-pyg56-minus1_all_results.csv\")\n",
    "HL_pyg56_minus1.rename(columns={'Unnamed: 0':'GeneID'},inplace = True)"
   ]
  },
  {
   "cell_type": "code",
   "execution_count": 26,
   "metadata": {},
   "outputs": [],
   "source": [
    "df_pyg56_fpkm = pd.read_csv(\"raw_data/pyg56_fpkm.csv\")\n",
    "LL_pyg56_plus4 = LL_pyg56_plus4.dropna()\n",
    "HL_pyg56_plus4 = HL_pyg56_plus4.dropna()\n",
    "LL_pyg56_minus1 = LL_pyg56_minus1.dropna()\n",
    "HL_pyg56_minus1 = HL_pyg56_minus1.dropna()"
   ]
  },
  {
   "cell_type": "code",
   "execution_count": 27,
   "metadata": {},
   "outputs": [
    {
     "data": {
      "text/plain": [
       "Index(['GeneID', 'HL-pyg56M-1-1', 'HL-pyg56M-1-2', 'HL-pyg56M-4-1',\n",
       "       'HL-pyg56M-4-2', 'HL-pyg56M-4-3', 'HL-pyg56W-1-1', 'HL-pyg56W-1-2',\n",
       "       'HL-pyg56W-1-3', 'HL-pyg56W-4-1', 'HL-pyg56W-4-2', 'HL-pyg56W-4-3',\n",
       "       'LL-pyg56M-1-1', 'LL-pyg56M-1-2', 'LL-pyg56M-1-3', 'LL-pyg56M-4-1',\n",
       "       'LL-pyg56M-4-2', 'LL-pyg56M-4-3', 'LL-pyg56W-1-1', 'LL-pyg56W-1-2',\n",
       "       'LL-pyg56W-1-3', 'LL-pyg56W-4-1', 'LL-pyg56W-4-2', 'LL-pyg56W-4-3'],\n",
       "      dtype='object')"
      ]
     },
     "execution_count": 27,
     "metadata": {},
     "output_type": "execute_result"
    }
   ],
   "source": [
    "df_pyg56_fpkm.columns"
   ]
  },
  {
   "cell_type": "code",
   "execution_count": 28,
   "metadata": {},
   "outputs": [],
   "source": [
    "df_pyg56_fpkm[\"HL-pyg56M-1\"]=(df_pyg56_fpkm['HL-pyg56M-1-1']+df_pyg56_fpkm['HL-pyg56M-1-2'])/2\n",
    "df_pyg56_fpkm[\"HL-pyg56W-1\"]=(df_pyg56_fpkm['HL-pyg56W-1-1']+df_pyg56_fpkm['HL-pyg56W-1-2']+df_pyg56_fpkm['HL-pyg56W-1-3'])/3\n",
    "df_pyg56_fpkm[\"LL-pyg56M-1\"]=(df_pyg56_fpkm['LL-pyg56M-1-1']+df_pyg56_fpkm['LL-pyg56M-1-2']+df_pyg56_fpkm['LL-pyg56M-1-3'])/3\n",
    "df_pyg56_fpkm[\"LL-pyg56W-1\"]=(df_pyg56_fpkm['LL-pyg56W-1-1']+df_pyg56_fpkm['LL-pyg56W-1-2']+df_pyg56_fpkm['LL-pyg56W-1-3'])/3"
   ]
  },
  {
   "cell_type": "code",
   "execution_count": 29,
   "metadata": {},
   "outputs": [],
   "source": [
    "df_pyg56_fpkm[\"HL-pyg56M-4\"]=(df_pyg56_fpkm['HL-pyg56M-4-1']+df_pyg56_fpkm['HL-pyg56M-4-2']+df_pyg56_fpkm['HL-pyg56M-4-3'])/3\n",
    "df_pyg56_fpkm[\"HL-pyg56W-4\"]=(df_pyg56_fpkm['HL-pyg56W-4-1']+df_pyg56_fpkm['HL-pyg56W-4-2']+df_pyg56_fpkm['HL-pyg56W-4-3'])/3\n",
    "df_pyg56_fpkm[\"LL-pyg56M-4\"]=(df_pyg56_fpkm['LL-pyg56M-4-1']+df_pyg56_fpkm['LL-pyg56M-4-2']+df_pyg56_fpkm['LL-pyg56M-4-3'])/3\n",
    "df_pyg56_fpkm[\"LL-pyg56W-4\"]=(df_pyg56_fpkm['LL-pyg56W-4-1']+df_pyg56_fpkm['LL-pyg56W-4-2']+df_pyg56_fpkm['LL-pyg56W-4-3'])/3"
   ]
  },
  {
   "cell_type": "code",
   "execution_count": 30,
   "metadata": {},
   "outputs": [],
   "source": [
    "df_pyg56_fpkm = df_pyg56_fpkm[(df_pyg56_fpkm[\"HL-pyg56M-1\"]+df_pyg56_fpkm[\"HL-pyg56M-4\"]) != 0]"
   ]
  },
  {
   "cell_type": "code",
   "execution_count": 31,
   "metadata": {},
   "outputs": [],
   "source": [
    "df_pyg56_fpkm = df_pyg56_fpkm.merge(HL_pyg56_minus1,on = 'GeneID')\n",
    "df_pyg56_fpkm.rename(columns={'log2FoldChange':'pyg56_HL_minus1_log2FC','padj':'pyg56_HL_minus1_FDR',\n",
    "                                  'baseMean':'pyg56_HL_minus1_baseMean','lfcSE':'pyg56_HL_minus1_lfcSE',\n",
    "                                  'stat':'pyg56_HL_minus1_stat','pvalue':'pyg56_HL_minus1_pvalue'\n",
    "                                 }, inplace = True)\n",
    "df_pyg56_fpkm = df_pyg56_fpkm.merge(HL_pyg56_plus4,on = 'GeneID')\n",
    "df_pyg56_fpkm.rename(columns={'log2FoldChange':'pyg56_HL_plus4_log2FC','pyg56_padj':'HL_plus4_FDR',\n",
    "                                 'baseMean':'pyg56_HL_plus4_baseMean','lfcSE':'pyg56_HL_plus4_lfcSE',\n",
    "                                  'stat':'pyg56_HL_plus4_stat','pvalue':'pyg56_HL_plus4_pvalue'\n",
    "                                 }, inplace = True)\n",
    "df_pyg56_fpkm = df_pyg56_fpkm.merge(LL_pyg56_minus1,on = 'GeneID')\n",
    "df_pyg56_fpkm.rename(columns={'log2FoldChange':'pyg56_LL_minus1_log2FC','padj':'pyg56_LL_minus1_FDR',\n",
    "                                 'baseMean':'pyg56_LL_minus1_baseMean','lfcSE':'pyg56_LL_minus1_lfcSE',\n",
    "                                  'stat':'pyg56_LL_minus1_stat','pvalue':'pyg56_LL_minus1_pvalue'\n",
    "                                 }, inplace = True)\n",
    "df_pyg56_fpkm = df_pyg56_fpkm.merge(LL_pyg56_plus4,on = 'GeneID')\n",
    "df_pyg56_fpkm.rename(columns={'log2FoldChange':'pyg56_LL_plus4_log2FC','padj':'pyg56_LL_plus4_FDR',\n",
    "                                 'baseMean':'pyg56_LL_plus4_baseMean','lfcSE':'pyg56_LL_plus4_lfcSE',\n",
    "                                  'stat':'pyg56_LL_plus4_stat','pvalue':'pyg56_LL_plus4_pvalue'\n",
    "                                 }, inplace = True)"
   ]
  },
  {
   "cell_type": "code",
   "execution_count": 32,
   "metadata": {},
   "outputs": [
    {
     "data": {
      "text/plain": [
       "Index(['GeneID', 'HL-pyg56M-1-1', 'HL-pyg56M-1-2', 'HL-pyg56M-4-1',\n",
       "       'HL-pyg56M-4-2', 'HL-pyg56M-4-3', 'HL-pyg56W-1-1', 'HL-pyg56W-1-2',\n",
       "       'HL-pyg56W-1-3', 'HL-pyg56W-4-1', 'HL-pyg56W-4-2', 'HL-pyg56W-4-3',\n",
       "       'LL-pyg56M-1-1', 'LL-pyg56M-1-2', 'LL-pyg56M-1-3', 'LL-pyg56M-4-1',\n",
       "       'LL-pyg56M-4-2', 'LL-pyg56M-4-3', 'LL-pyg56W-1-1', 'LL-pyg56W-1-2',\n",
       "       'LL-pyg56W-1-3', 'LL-pyg56W-4-1', 'LL-pyg56W-4-2', 'LL-pyg56W-4-3',\n",
       "       'HL-pyg56M-1', 'HL-pyg56W-1', 'LL-pyg56M-1', 'LL-pyg56W-1',\n",
       "       'HL-pyg56M-4', 'HL-pyg56W-4', 'LL-pyg56M-4', 'LL-pyg56W-4',\n",
       "       'pyg56_HL_minus1_baseMean', 'pyg56_HL_minus1_log2FC',\n",
       "       'pyg56_HL_minus1_lfcSE', 'pyg56_HL_minus1_stat',\n",
       "       'pyg56_HL_minus1_pvalue', 'pyg56_HL_minus1_FDR',\n",
       "       'pyg56_HL_plus4_baseMean', 'pyg56_HL_plus4_log2FC',\n",
       "       'pyg56_HL_plus4_lfcSE', 'pyg56_HL_plus4_stat', 'pyg56_HL_plus4_pvalue',\n",
       "       'padj_x', 'pyg56_LL_minus1_baseMean', 'pyg56_LL_minus1_log2FC',\n",
       "       'pyg56_LL_minus1_lfcSE', 'pyg56_LL_minus1_stat',\n",
       "       'pyg56_LL_minus1_pvalue', 'padj_y', 'pyg56_LL_plus4_baseMean',\n",
       "       'pyg56_LL_plus4_log2FC', 'pyg56_LL_plus4_lfcSE', 'pyg56_LL_plus4_stat',\n",
       "       'pyg56_LL_plus4_pvalue', 'pyg56_LL_plus4_FDR'],\n",
       "      dtype='object')"
      ]
     },
     "execution_count": 32,
     "metadata": {},
     "output_type": "execute_result"
    }
   ],
   "source": [
    "df_pyg56_fpkm.columns"
   ]
  },
  {
   "cell_type": "code",
   "execution_count": 33,
   "metadata": {},
   "outputs": [],
   "source": [
    "df_pyg56_fpkm.to_csv(\"feature_dataset/df_pyg56_Dataset.csv\",index=False)"
   ]
  },
  {
   "cell_type": "markdown",
   "metadata": {},
   "source": [
    "# cps"
   ]
  },
  {
   "cell_type": "code",
   "execution_count": 34,
   "metadata": {},
   "outputs": [],
   "source": [
    "LL_cps2_plus4 = pd.read_csv(\"raw_data/LL-cps2-minus1_all_results.csv\")\n",
    "LL_cps2_plus4.rename(columns={'Unnamed: 0':'GeneID'},inplace = True)\n",
    "HL_cps2_plus4 = pd.read_csv(\"raw_data/HL-cps2-plus4_all_results.csv\")\n",
    "HL_cps2_plus4.rename(columns={'Unnamed: 0':'GeneID'},inplace = True)\n",
    "LL_cps2_minus1 = pd.read_csv(\"raw_data/LL-cps2-minus1_all_results.csv\")\n",
    "LL_cps2_minus1.rename(columns={'Unnamed: 0':'GeneID'},inplace = True)\n",
    "HL_cps2_minus1 = pd.read_csv(\"raw_data/HL-cps2-minus1_all_results.csv\")\n",
    "HL_cps2_minus1.rename(columns={'Unnamed: 0':'GeneID'},inplace = True)"
   ]
  },
  {
   "cell_type": "code",
   "execution_count": 35,
   "metadata": {},
   "outputs": [],
   "source": [
    "df_cps2_fpkm = pd.read_csv(\"raw_data/cps2_fpkm.csv\")\n",
    "LL_cps2_plus4 = LL_cps2_plus4.dropna()\n",
    "HL_cps2_plus4 = HL_cps2_plus4.dropna()\n",
    "LL_cps2_minus1 = LL_cps2_minus1.dropna()\n",
    "HL_cps2_minus1 = HL_cps2_minus1.dropna()"
   ]
  },
  {
   "cell_type": "code",
   "execution_count": 36,
   "metadata": {},
   "outputs": [
    {
     "data": {
      "text/plain": [
       "Index(['GeneID', 'HL-cps2M-1-1', 'HL-cps2M-1-2', 'HL-cps2M-1-3',\n",
       "       'HL-cps2M-4-1', 'HL-cps2M-4-2', 'HL-cps2M-4-3', 'HL-cps2W-1-1',\n",
       "       'HL-cps2W-1-2', 'HL-cps2W-1-3', 'HL-cps2W-4-1', 'HL-cps2W-4-2',\n",
       "       'HL-cps2W-4-3', 'LL-cps2M-1-1', 'LL-cps2M-1-2', 'LL-cps2M-1-3',\n",
       "       'LL-cps2M-4-1', 'LL-cps2M-4-2', 'LL-cps2M-4-3', 'LL-cps2W-1-1',\n",
       "       'LL-cps2W-1-2', 'LL-cps2W-1-3', 'LL-cps2W-4-1', 'LL-cps2W-4-2',\n",
       "       'LL-cps2W-4-3'],\n",
       "      dtype='object')"
      ]
     },
     "execution_count": 36,
     "metadata": {},
     "output_type": "execute_result"
    }
   ],
   "source": [
    "df_cps2_fpkm.columns"
   ]
  },
  {
   "cell_type": "code",
   "execution_count": 37,
   "metadata": {},
   "outputs": [],
   "source": [
    "df_cps2_fpkm[\"HL-cps2M-1\"]=(df_cps2_fpkm['HL-cps2M-1-1']+df_cps2_fpkm['HL-cps2M-1-2']+df_cps2_fpkm['HL-cps2M-1-3'])/3\n",
    "df_cps2_fpkm[\"HL-cps2W-1\"]=(df_cps2_fpkm['HL-cps2W-1-1']+df_cps2_fpkm['HL-cps2W-1-2']+df_cps2_fpkm['HL-cps2W-1-3'])/3\n",
    "df_cps2_fpkm[\"LL-cps2M-1\"]=(df_cps2_fpkm['LL-cps2M-1-1']+df_cps2_fpkm['LL-cps2M-1-2']+df_cps2_fpkm['LL-cps2M-1-3'])/3\n",
    "df_cps2_fpkm[\"LL-cps2W-1\"]=(df_cps2_fpkm['LL-cps2W-1-1']+df_cps2_fpkm['LL-cps2W-1-2']+df_cps2_fpkm['LL-cps2W-1-3'])/3"
   ]
  },
  {
   "cell_type": "code",
   "execution_count": 38,
   "metadata": {},
   "outputs": [],
   "source": [
    "df_cps2_fpkm[\"HL-cps2M-4\"]=(df_cps2_fpkm['HL-cps2M-4-1']+df_cps2_fpkm['HL-cps2M-4-2']+df_cps2_fpkm['HL-cps2M-4-3'])/3\n",
    "df_cps2_fpkm[\"HL-cps2W-4\"]=(df_cps2_fpkm['HL-cps2W-4-1']+df_cps2_fpkm['HL-cps2W-4-2']+df_cps2_fpkm['HL-cps2W-4-3'])/3\n",
    "df_cps2_fpkm[\"LL-cps2M-4\"]=(df_cps2_fpkm['LL-cps2M-4-1']+df_cps2_fpkm['LL-cps2M-4-2']+df_cps2_fpkm['LL-cps2M-4-3'])/3\n",
    "df_cps2_fpkm[\"LL-cps2W-4\"]=(df_cps2_fpkm['LL-cps2W-4-1']+df_cps2_fpkm['LL-cps2W-4-2']+df_cps2_fpkm['LL-cps2W-4-3'])/3"
   ]
  },
  {
   "cell_type": "code",
   "execution_count": 39,
   "metadata": {},
   "outputs": [],
   "source": [
    "df_cps2_fpkm = df_cps2_fpkm[(df_cps2_fpkm[\"HL-cps2M-1\"]+df_cps2_fpkm[\"HL-cps2M-4\"]) != 0]"
   ]
  },
  {
   "cell_type": "code",
   "execution_count": 40,
   "metadata": {},
   "outputs": [],
   "source": [
    "df_cps2_fpkm = df_cps2_fpkm.merge(HL_cps2_minus1,on = 'GeneID')\n",
    "df_cps2_fpkm.rename(columns={'log2FoldChange':'cps2_HL_minus1_log2FC','padj':'cps2_HL_minus1_FDR',\n",
    "                                  'baseMean':'cps2_HL_minus1_baseMean','lfcSE':'cps2_HL_minus1_lfcSE',\n",
    "                                  'stat':'cps2_HL_minus1_stat','pvalue':'cps2_HL_minus1_pvalue'\n",
    "                                 }, inplace = True)\n",
    "df_cps2_fpkm = df_cps2_fpkm.merge(HL_cps2_plus4,on = 'GeneID')\n",
    "df_cps2_fpkm.rename(columns={'log2FoldChange':'cps2_HL_plus4_log2FC','cps2_padj':'HL_plus4_FDR',\n",
    "                                 'baseMean':'cps2_HL_plus4_baseMean','lfcSE':'cps2_HL_plus4_lfcSE',\n",
    "                                  'stat':'cps2_HL_plus4_stat','pvalue':'cps2_HL_plus4_pvalue'\n",
    "                                 }, inplace = True)\n",
    "df_cps2_fpkm = df_cps2_fpkm.merge(LL_cps2_minus1,on = 'GeneID')\n",
    "df_cps2_fpkm.rename(columns={'log2FoldChange':'cps2_LL_minus1_log2FC','padj':'cps2_LL_minus1_FDR',\n",
    "                                 'baseMean':'cps2_LL_minus1_baseMean','lfcSE':'cps2_LL_minus1_lfcSE',\n",
    "                                  'stat':'cps2_LL_minus1_stat','pvalue':'cps2_LL_minus1_pvalue'\n",
    "                                 }, inplace = True)\n",
    "df_cps2_fpkm = df_cps2_fpkm.merge(LL_cps2_plus4,on = 'GeneID')\n",
    "df_cps2_fpkm.rename(columns={'log2FoldChange':'cps2_LL_plus4_log2FC','padj':'cps2_LL_plus4_FDR',\n",
    "                                 'baseMean':'cps2_LL_plus4_baseMean','lfcSE':'cps2_LL_plus4_lfcSE',\n",
    "                                  'stat':'cps2_LL_plus4_stat','pvalue':'cps2_LL_plus4_pvalue'\n",
    "                                 }, inplace = True)"
   ]
  },
  {
   "cell_type": "code",
   "execution_count": 41,
   "metadata": {},
   "outputs": [
    {
     "data": {
      "text/plain": [
       "Index(['GeneID', 'HL-cps2M-1-1', 'HL-cps2M-1-2', 'HL-cps2M-1-3',\n",
       "       'HL-cps2M-4-1', 'HL-cps2M-4-2', 'HL-cps2M-4-3', 'HL-cps2W-1-1',\n",
       "       'HL-cps2W-1-2', 'HL-cps2W-1-3', 'HL-cps2W-4-1', 'HL-cps2W-4-2',\n",
       "       'HL-cps2W-4-3', 'LL-cps2M-1-1', 'LL-cps2M-1-2', 'LL-cps2M-1-3',\n",
       "       'LL-cps2M-4-1', 'LL-cps2M-4-2', 'LL-cps2M-4-3', 'LL-cps2W-1-1',\n",
       "       'LL-cps2W-1-2', 'LL-cps2W-1-3', 'LL-cps2W-4-1', 'LL-cps2W-4-2',\n",
       "       'LL-cps2W-4-3', 'HL-cps2M-1', 'HL-cps2W-1', 'LL-cps2M-1', 'LL-cps2W-1',\n",
       "       'HL-cps2M-4', 'HL-cps2W-4', 'LL-cps2M-4', 'LL-cps2W-4',\n",
       "       'cps2_HL_minus1_baseMean', 'cps2_HL_minus1_log2FC',\n",
       "       'cps2_HL_minus1_lfcSE', 'cps2_HL_minus1_stat', 'cps2_HL_minus1_pvalue',\n",
       "       'cps2_HL_minus1_FDR', 'cps2_HL_plus4_baseMean', 'cps2_HL_plus4_log2FC',\n",
       "       'cps2_HL_plus4_lfcSE', 'cps2_HL_plus4_stat', 'cps2_HL_plus4_pvalue',\n",
       "       'padj_x', 'cps2_LL_minus1_baseMean', 'cps2_LL_minus1_log2FC',\n",
       "       'cps2_LL_minus1_lfcSE', 'cps2_LL_minus1_stat', 'cps2_LL_minus1_pvalue',\n",
       "       'padj_y', 'cps2_LL_plus4_baseMean', 'cps2_LL_plus4_log2FC',\n",
       "       'cps2_LL_plus4_lfcSE', 'cps2_LL_plus4_stat', 'cps2_LL_plus4_pvalue',\n",
       "       'cps2_LL_plus4_FDR'],\n",
       "      dtype='object')"
      ]
     },
     "execution_count": 41,
     "metadata": {},
     "output_type": "execute_result"
    }
   ],
   "source": [
    "df_cps2_fpkm.columns"
   ]
  },
  {
   "cell_type": "code",
   "execution_count": 42,
   "metadata": {},
   "outputs": [],
   "source": [
    "df_cps2_fpkm.to_csv(\"feature_dataset/df_cps2_Dataset.csv\",index=False)"
   ]
  },
  {
   "cell_type": "markdown",
   "metadata": {},
   "source": [
    "# pet"
   ]
  },
  {
   "cell_type": "code",
   "execution_count": 43,
   "metadata": {},
   "outputs": [],
   "source": [
    "LL_pet2_plus4 = pd.read_csv(\"raw_data/LL-pet2-minus1_all_results.csv\")\n",
    "LL_pet2_plus4.rename(columns={'Unnamed: 0':'GeneID'},inplace = True)\n",
    "HL_pet2_plus4 = pd.read_csv(\"raw_data/HL-pet2-plus4_all_results.csv\")\n",
    "HL_pet2_plus4.rename(columns={'Unnamed: 0':'GeneID'},inplace = True)\n",
    "LL_pet2_minus1 = pd.read_csv(\"raw_data/LL-pet2-minus1_all_results.csv\")\n",
    "LL_pet2_minus1.rename(columns={'Unnamed: 0':'GeneID'},inplace = True)\n",
    "HL_pet2_minus1 = pd.read_csv(\"raw_data/HL-pet2-minus1_all_results.csv\")\n",
    "HL_pet2_minus1.rename(columns={'Unnamed: 0':'GeneID'},inplace = True)"
   ]
  },
  {
   "cell_type": "code",
   "execution_count": 44,
   "metadata": {},
   "outputs": [],
   "source": [
    "df_pet2_fpkm = pd.read_csv(\"raw_data/pet2_fpkm.csv\")\n",
    "LL_pet2_plus4 = LL_pet2_plus4.dropna()\n",
    "HL_pet2_plus4 = HL_pet2_plus4.dropna()\n",
    "LL_pet2_minus1 = LL_pet2_minus1.dropna()\n",
    "HL_pet2_minus1 = HL_pet2_minus1.dropna()"
   ]
  },
  {
   "cell_type": "code",
   "execution_count": 45,
   "metadata": {},
   "outputs": [
    {
     "data": {
      "text/plain": [
       "Index(['GeneID', 'HL-pet2M-1-1', 'HL-pet2M-1-2', 'HL-pet2M-1-3',\n",
       "       'HL-pet2M-4-1', 'HL-pet2M-4-2', 'HL-pet2M-4-3', 'HL-pet2W-1-1',\n",
       "       'HL-pet2W-1-2', 'HL-pet2W-1-3', 'HL-pet2W-4-1', 'HL-pet2W-4-2',\n",
       "       'HL-pet2W-4-3', 'LL-pet2M-1-1', 'LL-pet2M-1-2', 'LL-pet2M-1-3',\n",
       "       'LL-pet2M-4-1', 'LL-pet2M-4-2', 'LL-pet2M-4-3', 'LL-pet2W-1-1',\n",
       "       'LL-pet2W-1-2', 'LL-pet2W-1-3', 'LL-pet2W-4-1', 'LL-pet2W-4-2',\n",
       "       'LL-pet2W-4-3'],\n",
       "      dtype='object')"
      ]
     },
     "execution_count": 45,
     "metadata": {},
     "output_type": "execute_result"
    }
   ],
   "source": [
    "df_pet2_fpkm.columns"
   ]
  },
  {
   "cell_type": "code",
   "execution_count": 46,
   "metadata": {},
   "outputs": [],
   "source": [
    "df_pet2_fpkm[\"HL-pet2M-1\"]=(df_pet2_fpkm['HL-pet2M-1-1']+df_pet2_fpkm['HL-pet2M-1-2']+df_pet2_fpkm['HL-pet2M-1-3'])/3\n",
    "df_pet2_fpkm[\"HL-pet2W-1\"]=(df_pet2_fpkm['HL-pet2W-1-1']+df_pet2_fpkm['HL-pet2W-1-2']+df_pet2_fpkm['HL-pet2W-1-3'])/3\n",
    "df_pet2_fpkm[\"LL-pet2M-1\"]=(df_pet2_fpkm['LL-pet2M-1-1']+df_pet2_fpkm['LL-pet2M-1-2']+df_pet2_fpkm['LL-pet2M-1-3'])/3\n",
    "df_pet2_fpkm[\"LL-pet2W-1\"]=(df_pet2_fpkm['LL-pet2W-1-1']+df_pet2_fpkm['LL-pet2W-1-2']+df_pet2_fpkm['LL-pet2W-1-3'])/3"
   ]
  },
  {
   "cell_type": "code",
   "execution_count": 47,
   "metadata": {},
   "outputs": [],
   "source": [
    "df_pet2_fpkm[\"HL-pet2M-4\"]=(df_pet2_fpkm['HL-pet2M-4-1']+df_pet2_fpkm['HL-pet2M-4-2']+df_pet2_fpkm['HL-pet2M-4-3'])/3\n",
    "df_pet2_fpkm[\"HL-pet2W-4\"]=(df_pet2_fpkm['HL-pet2W-4-1']+df_pet2_fpkm['HL-pet2W-4-2']+df_pet2_fpkm['HL-pet2W-4-3'])/3\n",
    "df_pet2_fpkm[\"LL-pet2M-4\"]=(df_pet2_fpkm['LL-pet2M-4-1']+df_pet2_fpkm['LL-pet2M-4-2']+df_pet2_fpkm['LL-pet2M-4-3'])/3\n",
    "df_pet2_fpkm[\"LL-pet2W-4\"]=(df_pet2_fpkm['LL-pet2W-4-1']+df_pet2_fpkm['LL-pet2W-4-2']+df_pet2_fpkm['LL-pet2W-4-3'])/3"
   ]
  },
  {
   "cell_type": "code",
   "execution_count": 48,
   "metadata": {},
   "outputs": [],
   "source": [
    "df_pet2_fpkm = df_pet2_fpkm[(df_pet2_fpkm[\"HL-pet2M-1\"]+df_pet2_fpkm[\"HL-pet2M-4\"]) != 0]"
   ]
  },
  {
   "cell_type": "code",
   "execution_count": 49,
   "metadata": {},
   "outputs": [],
   "source": [
    "df_pet2_fpkm = df_pet2_fpkm.merge(HL_pet2_minus1,on = 'GeneID')\n",
    "df_pet2_fpkm.rename(columns={'log2FoldChange':'pet2_HL_minus1_log2FC','padj':'pet2_HL_minus1_FDR',\n",
    "                                  'baseMean':'pet2_HL_minus1_baseMean','lfcSE':'pet2_HL_minus1_lfcSE',\n",
    "                                  'stat':'pet2_HL_minus1_stat','pvalue':'pet2_HL_minus1_pvalue'\n",
    "                                 }, inplace = True)\n",
    "df_pet2_fpkm = df_pet2_fpkm.merge(HL_pet2_plus4,on = 'GeneID')\n",
    "df_pet2_fpkm.rename(columns={'log2FoldChange':'pet2_HL_plus4_log2FC','pet2_padj':'HL_plus4_FDR',\n",
    "                                 'baseMean':'pet2_HL_plus4_baseMean','lfcSE':'pet2_HL_plus4_lfcSE',\n",
    "                                  'stat':'pet2_HL_plus4_stat','pvalue':'pet2_HL_plus4_pvalue'\n",
    "                                 }, inplace = True)\n",
    "df_pet2_fpkm = df_pet2_fpkm.merge(LL_pet2_minus1,on = 'GeneID')\n",
    "df_pet2_fpkm.rename(columns={'log2FoldChange':'pet2_LL_minus1_log2FC','padj':'pet2_LL_minus1_FDR',\n",
    "                                 'baseMean':'pet2_LL_minus1_baseMean','lfcSE':'pet2_LL_minus1_lfcSE',\n",
    "                                  'stat':'pet2_LL_minus1_stat','pvalue':'pet2_LL_minus1_pvalue'\n",
    "                                 }, inplace = True)\n",
    "df_pet2_fpkm = df_pet2_fpkm.merge(LL_pet2_plus4,on = 'GeneID')\n",
    "df_pet2_fpkm.rename(columns={'log2FoldChange':'pet2_LL_plus4_log2FC','padj':'pet2_LL_plus4_FDR',\n",
    "                                 'baseMean':'pet2_LL_plus4_baseMean','lfcSE':'pet2_LL_plus4_lfcSE',\n",
    "                                  'stat':'pet2_LL_plus4_stat','pvalue':'pet2_LL_plus4_pvalue'\n",
    "                                 }, inplace = True)"
   ]
  },
  {
   "cell_type": "code",
   "execution_count": 50,
   "metadata": {},
   "outputs": [
    {
     "data": {
      "text/plain": [
       "Index(['GeneID', 'HL-pet2M-1-1', 'HL-pet2M-1-2', 'HL-pet2M-1-3',\n",
       "       'HL-pet2M-4-1', 'HL-pet2M-4-2', 'HL-pet2M-4-3', 'HL-pet2W-1-1',\n",
       "       'HL-pet2W-1-2', 'HL-pet2W-1-3', 'HL-pet2W-4-1', 'HL-pet2W-4-2',\n",
       "       'HL-pet2W-4-3', 'LL-pet2M-1-1', 'LL-pet2M-1-2', 'LL-pet2M-1-3',\n",
       "       'LL-pet2M-4-1', 'LL-pet2M-4-2', 'LL-pet2M-4-3', 'LL-pet2W-1-1',\n",
       "       'LL-pet2W-1-2', 'LL-pet2W-1-3', 'LL-pet2W-4-1', 'LL-pet2W-4-2',\n",
       "       'LL-pet2W-4-3', 'HL-pet2M-1', 'HL-pet2W-1', 'LL-pet2M-1', 'LL-pet2W-1',\n",
       "       'HL-pet2M-4', 'HL-pet2W-4', 'LL-pet2M-4', 'LL-pet2W-4',\n",
       "       'pet2_HL_minus1_baseMean', 'pet2_HL_minus1_log2FC',\n",
       "       'pet2_HL_minus1_lfcSE', 'pet2_HL_minus1_stat', 'pet2_HL_minus1_pvalue',\n",
       "       'pet2_HL_minus1_FDR', 'pet2_HL_plus4_baseMean', 'pet2_HL_plus4_log2FC',\n",
       "       'pet2_HL_plus4_lfcSE', 'pet2_HL_plus4_stat', 'pet2_HL_plus4_pvalue',\n",
       "       'padj_x', 'pet2_LL_minus1_baseMean', 'pet2_LL_minus1_log2FC',\n",
       "       'pet2_LL_minus1_lfcSE', 'pet2_LL_minus1_stat', 'pet2_LL_minus1_pvalue',\n",
       "       'padj_y', 'pet2_LL_plus4_baseMean', 'pet2_LL_plus4_log2FC',\n",
       "       'pet2_LL_plus4_lfcSE', 'pet2_LL_plus4_stat', 'pet2_LL_plus4_pvalue',\n",
       "       'pet2_LL_plus4_FDR'],\n",
       "      dtype='object')"
      ]
     },
     "execution_count": 50,
     "metadata": {},
     "output_type": "execute_result"
    }
   ],
   "source": [
    "df_pet2_fpkm.columns"
   ]
  },
  {
   "cell_type": "code",
   "execution_count": 51,
   "metadata": {},
   "outputs": [],
   "source": [
    "df_pet2_fpkm.to_csv(\"feature_dataset/df_pet2_Dataset.csv\",index=False)"
   ]
  },
  {
   "cell_type": "markdown",
   "metadata": {},
   "source": [
    "# hcf136"
   ]
  },
  {
   "cell_type": "code",
   "execution_count": 52,
   "metadata": {},
   "outputs": [],
   "source": [
    "LL_hcf136_plus4 = pd.read_csv(\"raw_data/LL-hcf136-minus1_all_results.csv\")\n",
    "LL_hcf136_plus4.rename(columns={'Unnamed: 0':'GeneID'},inplace = True)\n",
    "HL_hcf136_plus4 = pd.read_csv(\"raw_data/HL-hcf136-plus4_all_results.csv\")\n",
    "HL_hcf136_plus4.rename(columns={'Unnamed: 0':'GeneID'},inplace = True)\n",
    "LL_hcf136_minus1 = pd.read_csv(\"raw_data/LL-hcf136-minus1_all_results.csv\")\n",
    "LL_hcf136_minus1.rename(columns={'Unnamed: 0':'GeneID'},inplace = True)\n",
    "HL_hcf136_minus1 = pd.read_csv(\"raw_data/HL-hcf136-minus1_all_results.csv\")\n",
    "HL_hcf136_minus1.rename(columns={'Unnamed: 0':'GeneID'},inplace = True)"
   ]
  },
  {
   "cell_type": "code",
   "execution_count": 53,
   "metadata": {},
   "outputs": [],
   "source": [
    "df_hcf136_fpkm = pd.read_csv(\"raw_data/hcf136_fpkm.csv\")\n",
    "LL_hcf136_plus4 = LL_hcf136_plus4.dropna()\n",
    "HL_hcf136_plus4 = HL_hcf136_plus4.dropna()\n",
    "LL_hcf136_minus1 = LL_hcf136_minus1.dropna()\n",
    "HL_hcf136_minus1 = HL_hcf136_minus1.dropna()"
   ]
  },
  {
   "cell_type": "code",
   "execution_count": 54,
   "metadata": {},
   "outputs": [
    {
     "data": {
      "text/plain": [
       "Index(['GeneID', 'HL-hcf136M-1-1', 'HL-hcf136M-1-2', 'HL-hcf136M-1-3',\n",
       "       'HL-hcf136M-4-1', 'HL-hcf136M-4-2', 'HL-hcf136M-4-3', 'HL-hcf136W-1-1',\n",
       "       'HL-hcf136W-1-2', 'HL-hcf136W-1-3', 'HL-hcf136W-4-1', 'HL-hcf136W-4-2',\n",
       "       'HL-hcf136W-4-3', 'LL-hcf136M-1-1', 'LL-hcf136M-1-2', 'LL-hcf136M-1-3',\n",
       "       'LL-hcf136M-4-1', 'LL-hcf136M-4-2', 'LL-hcf136M-4-3', 'LL-hcf136W-1-1',\n",
       "       'LL-hcf136W-1-2', 'LL-hcf136W-4-1', 'LL-hcf136W-4-2'],\n",
       "      dtype='object')"
      ]
     },
     "execution_count": 54,
     "metadata": {},
     "output_type": "execute_result"
    }
   ],
   "source": [
    "df_hcf136_fpkm.columns"
   ]
  },
  {
   "cell_type": "code",
   "execution_count": 55,
   "metadata": {},
   "outputs": [],
   "source": [
    "df_hcf136_fpkm[\"HL-hcf136M-1\"]=(df_hcf136_fpkm['HL-hcf136M-1-1']+df_hcf136_fpkm['HL-hcf136M-1-2']+df_hcf136_fpkm['HL-hcf136M-1-3'])/3\n",
    "df_hcf136_fpkm[\"HL-hcf136W-1\"]=(df_hcf136_fpkm['HL-hcf136W-1-1']+df_hcf136_fpkm['HL-hcf136W-1-2']+df_hcf136_fpkm['HL-hcf136W-1-3'])/3\n",
    "df_hcf136_fpkm[\"LL-hcf136M-1\"]=(df_hcf136_fpkm['LL-hcf136M-1-1']+df_hcf136_fpkm['LL-hcf136M-1-2']+df_hcf136_fpkm['LL-hcf136M-1-3'])/3\n",
    "df_hcf136_fpkm[\"LL-hcf136W-1\"]=(df_hcf136_fpkm['LL-hcf136W-1-1']+df_hcf136_fpkm['LL-hcf136W-1-2'])/2"
   ]
  },
  {
   "cell_type": "code",
   "execution_count": 56,
   "metadata": {},
   "outputs": [],
   "source": [
    "df_hcf136_fpkm[\"HL-hcf136M-4\"]=(df_hcf136_fpkm['HL-hcf136M-4-1']+df_hcf136_fpkm['HL-hcf136M-4-2']+df_hcf136_fpkm['HL-hcf136M-4-3'])/3\n",
    "df_hcf136_fpkm[\"HL-hcf136W-4\"]=(df_hcf136_fpkm['HL-hcf136W-4-1']+df_hcf136_fpkm['HL-hcf136W-4-2']+df_hcf136_fpkm['HL-hcf136W-4-3'])/3\n",
    "df_hcf136_fpkm[\"LL-hcf136M-4\"]=(df_hcf136_fpkm['LL-hcf136M-4-1']+df_hcf136_fpkm['LL-hcf136M-4-2']+df_hcf136_fpkm['LL-hcf136M-4-3'])/3\n",
    "df_hcf136_fpkm[\"LL-hcf136W-4\"]=(df_hcf136_fpkm['LL-hcf136W-4-1']+df_hcf136_fpkm['LL-hcf136W-4-2'])/2"
   ]
  },
  {
   "cell_type": "code",
   "execution_count": 57,
   "metadata": {},
   "outputs": [],
   "source": [
    "df_hcf136_fpkm = df_hcf136_fpkm[(df_hcf136_fpkm[\"HL-hcf136M-1\"]+df_hcf136_fpkm[\"HL-hcf136M-4\"]) != 0]"
   ]
  },
  {
   "cell_type": "code",
   "execution_count": 58,
   "metadata": {},
   "outputs": [],
   "source": [
    "df_hcf136_fpkm = df_hcf136_fpkm.merge(HL_hcf136_minus1,on = 'GeneID')\n",
    "df_hcf136_fpkm.rename(columns={'log2FoldChange':'hcf136_HL_minus1_log2FC','padj':'hcf136_HL_minus1_FDR',\n",
    "                                  'baseMean':'hcf136_HL_minus1_baseMean','lfcSE':'hcf136_HL_minus1_lfcSE',\n",
    "                                  'stat':'hcf136_HL_minus1_stat','pvalue':'hcf136_HL_minus1_pvalue'\n",
    "                                 }, inplace = True)\n",
    "df_hcf136_fpkm = df_hcf136_fpkm.merge(HL_hcf136_plus4,on = 'GeneID')\n",
    "df_hcf136_fpkm.rename(columns={'log2FoldChange':'hcf136_HL_plus4_log2FC','hcf136_padj':'HL_plus4_FDR',\n",
    "                                 'baseMean':'hcf136_HL_plus4_baseMean','lfcSE':'hcf136_HL_plus4_lfcSE',\n",
    "                                  'stat':'hcf136_HL_plus4_stat','pvalue':'hcf136_HL_plus4_pvalue'\n",
    "                                 }, inplace = True)\n",
    "df_hcf136_fpkm = df_hcf136_fpkm.merge(LL_hcf136_minus1,on = 'GeneID')\n",
    "df_hcf136_fpkm.rename(columns={'log2FoldChange':'hcf136_LL_minus1_log2FC','padj':'hcf136_LL_minus1_FDR',\n",
    "                                 'baseMean':'hcf136_LL_minus1_baseMean','lfcSE':'hcf136_LL_minus1_lfcSE',\n",
    "                                  'stat':'hcf136_LL_minus1_stat','pvalue':'hcf136_LL_minus1_pvalue'\n",
    "                                 }, inplace = True)\n",
    "df_hcf136_fpkm = df_hcf136_fpkm.merge(LL_hcf136_plus4,on = 'GeneID')\n",
    "df_hcf136_fpkm.rename(columns={'log2FoldChange':'hcf136_LL_plus4_log2FC','padj':'hcf136_LL_plus4_FDR',\n",
    "                                 'baseMean':'hcf136_LL_plus4_baseMean','lfcSE':'hcf136_LL_plus4_lfcSE',\n",
    "                                  'stat':'hcf136_LL_plus4_stat','pvalue':'hcf136_LL_plus4_pvalue'\n",
    "                                 }, inplace = True)"
   ]
  },
  {
   "cell_type": "code",
   "execution_count": 59,
   "metadata": {},
   "outputs": [
    {
     "data": {
      "text/plain": [
       "Index(['GeneID', 'HL-hcf136M-1-1', 'HL-hcf136M-1-2', 'HL-hcf136M-1-3',\n",
       "       'HL-hcf136M-4-1', 'HL-hcf136M-4-2', 'HL-hcf136M-4-3', 'HL-hcf136W-1-1',\n",
       "       'HL-hcf136W-1-2', 'HL-hcf136W-1-3', 'HL-hcf136W-4-1', 'HL-hcf136W-4-2',\n",
       "       'HL-hcf136W-4-3', 'LL-hcf136M-1-1', 'LL-hcf136M-1-2', 'LL-hcf136M-1-3',\n",
       "       'LL-hcf136M-4-1', 'LL-hcf136M-4-2', 'LL-hcf136M-4-3', 'LL-hcf136W-1-1',\n",
       "       'LL-hcf136W-1-2', 'LL-hcf136W-4-1', 'LL-hcf136W-4-2', 'HL-hcf136M-1',\n",
       "       'HL-hcf136W-1', 'LL-hcf136M-1', 'LL-hcf136W-1', 'HL-hcf136M-4',\n",
       "       'HL-hcf136W-4', 'LL-hcf136M-4', 'LL-hcf136W-4',\n",
       "       'hcf136_HL_minus1_baseMean', 'hcf136_HL_minus1_log2FC',\n",
       "       'hcf136_HL_minus1_lfcSE', 'hcf136_HL_minus1_stat',\n",
       "       'hcf136_HL_minus1_pvalue', 'hcf136_HL_minus1_FDR',\n",
       "       'hcf136_HL_plus4_baseMean', 'hcf136_HL_plus4_log2FC',\n",
       "       'hcf136_HL_plus4_lfcSE', 'hcf136_HL_plus4_stat',\n",
       "       'hcf136_HL_plus4_pvalue', 'padj_x', 'hcf136_LL_minus1_baseMean',\n",
       "       'hcf136_LL_minus1_log2FC', 'hcf136_LL_minus1_lfcSE',\n",
       "       'hcf136_LL_minus1_stat', 'hcf136_LL_minus1_pvalue', 'padj_y',\n",
       "       'hcf136_LL_plus4_baseMean', 'hcf136_LL_plus4_log2FC',\n",
       "       'hcf136_LL_plus4_lfcSE', 'hcf136_LL_plus4_stat',\n",
       "       'hcf136_LL_plus4_pvalue', 'hcf136_LL_plus4_FDR'],\n",
       "      dtype='object')"
      ]
     },
     "execution_count": 59,
     "metadata": {},
     "output_type": "execute_result"
    }
   ],
   "source": [
    "df_hcf136_fpkm.columns"
   ]
  },
  {
   "cell_type": "code",
   "execution_count": 60,
   "metadata": {},
   "outputs": [],
   "source": [
    "df_hcf136_fpkm.to_csv(\"feature_dataset/df_hcf136_Dataset.csv\",index=False)"
   ]
  },
  {
   "cell_type": "markdown",
   "metadata": {},
   "source": [
    "# Dataset"
   ]
  },
  {
   "cell_type": "code",
   "execution_count": 61,
   "metadata": {},
   "outputs": [],
   "source": [
    "df_1 = df_ATP4_fpkm.merge(df_bsd2_fpkm,on=\"GeneID\")\n",
    "df_1 = df_1.merge(df_pyg56_fpkm,on=\"GeneID\")\n",
    "df_1 = df_1.merge(df_cps2_fpkm,on=\"GeneID\")\n",
    "df_1 = df_1.merge(df_pet2_fpkm,on=\"GeneID\")\n",
    "df_1 = df_1.merge(df_hcf136_fpkm,on=\"GeneID\")"
   ]
  },
  {
   "cell_type": "code",
   "execution_count": 62,
   "metadata": {},
   "outputs": [],
   "source": [
    "df_1 = df_1.merge(maize_an,on='GeneID')\n",
    "df_1[\"ps\"] = df_1[\"MAIZE_MAPMAN_CATEGORY\"].apply(lambda x : guang(x))"
   ]
  },
  {
   "cell_type": "code",
   "execution_count": 63,
   "metadata": {},
   "outputs": [],
   "source": [
    "df_1 = df_1[df_1[\"ps\"] != 2]"
   ]
  },
  {
   "cell_type": "code",
   "execution_count": 64,
   "metadata": {},
   "outputs": [],
   "source": [
    "del df_1[\"MAIZE_MAPMAN_CATEGORY\"]"
   ]
  },
  {
   "cell_type": "code",
   "execution_count": 65,
   "metadata": {},
   "outputs": [],
   "source": [
    "df_1_an = df_1[df_1[\"ps\"] != 2]"
   ]
  },
  {
   "cell_type": "code",
   "execution_count": 66,
   "metadata": {},
   "outputs": [],
   "source": [
    "df_1_an = df_1_an[df_1_an[\"ps\"] != 3]"
   ]
  },
  {
   "cell_type": "code",
   "execution_count": 67,
   "metadata": {},
   "outputs": [],
   "source": [
    "df_1_unan = df_1[df_1[\"ps\"] == 3]"
   ]
  },
  {
   "cell_type": "code",
   "execution_count": 68,
   "metadata": {},
   "outputs": [],
   "source": [
    "df_1_an.drop_duplicates(subset=['GeneID'],keep='first',inplace=True)"
   ]
  },
  {
   "cell_type": "code",
   "execution_count": 69,
   "metadata": {},
   "outputs": [],
   "source": [
    "df_1_an.to_csv(\"feature_dataset/Dataset_an.csv\",index=False)"
   ]
  },
  {
   "cell_type": "code",
   "execution_count": 70,
   "metadata": {},
   "outputs": [],
   "source": [
    "df_1_unan.to_csv(\"feature_dataset/Dataset_unan.csv\",index=False)"
   ]
  },
  {
   "cell_type": "code",
   "execution_count": 71,
   "metadata": {},
   "outputs": [
    {
     "data": {
      "text/plain": [
       "310"
      ]
     },
     "execution_count": 71,
     "metadata": {},
     "output_type": "execute_result"
    }
   ],
   "source": [
    "len(df_1_an[df_1_an[\"ps\"]==1])"
   ]
  },
  {
   "cell_type": "code",
   "execution_count": 72,
   "metadata": {},
   "outputs": [
    {
     "data": {
      "text/plain": [
       "405"
      ]
     },
     "execution_count": 72,
     "metadata": {},
     "output_type": "execute_result"
    }
   ],
   "source": [
    "len(df_1_an[df_1_an[\"ps\"]==0])"
   ]
  },
  {
   "cell_type": "code",
   "execution_count": 73,
   "metadata": {},
   "outputs": [
    {
     "data": {
      "text/plain": [
       "9520"
      ]
     },
     "execution_count": 73,
     "metadata": {},
     "output_type": "execute_result"
    }
   ],
   "source": [
    "len(df_1_unan[df_1_unan[\"ps\"]==3])"
   ]
  },
  {
   "cell_type": "markdown",
   "metadata": {},
   "source": [
    "# ATP4dataset"
   ]
  },
  {
   "cell_type": "code",
   "execution_count": 74,
   "metadata": {},
   "outputs": [],
   "source": [
    "df_ATP4_fpkm = df_ATP4_fpkm.merge(maize_an,on='GeneID')\n",
    "df_ATP4_fpkm[\"ps\"] = df_ATP4_fpkm[\"MAIZE_MAPMAN_CATEGORY\"].apply(lambda x : guang(x))"
   ]
  },
  {
   "cell_type": "code",
   "execution_count": 75,
   "metadata": {},
   "outputs": [],
   "source": [
    "df_ATP4_fpkm = df_ATP4_fpkm[df_ATP4_fpkm[\"ps\"] != 2]"
   ]
  },
  {
   "cell_type": "code",
   "execution_count": 76,
   "metadata": {},
   "outputs": [],
   "source": [
    "del df_ATP4_fpkm[\"MAIZE_MAPMAN_CATEGORY\"]"
   ]
  },
  {
   "cell_type": "code",
   "execution_count": 77,
   "metadata": {},
   "outputs": [],
   "source": [
    "df_ATP4_fpkm = df_ATP4_fpkm[df_ATP4_fpkm[\"ps\"] != 3]"
   ]
  },
  {
   "cell_type": "code",
   "execution_count": 78,
   "metadata": {},
   "outputs": [],
   "source": [
    "df_ATP4_fpkm.to_csv(\"feature_dataset/ATP4_dataset.csv\",index=False)"
   ]
  },
  {
   "cell_type": "markdown",
   "metadata": {},
   "source": [
    "# bsd2dataset"
   ]
  },
  {
   "cell_type": "code",
   "execution_count": 79,
   "metadata": {},
   "outputs": [],
   "source": [
    "df_bsd2_fpkm = df_bsd2_fpkm.merge(maize_an,on='GeneID')\n",
    "df_bsd2_fpkm[\"ps\"] = df_bsd2_fpkm[\"MAIZE_MAPMAN_CATEGORY\"].apply(lambda x : guang(x))\n",
    "\n",
    "df_bsd2_fpkm = df_bsd2_fpkm[df_bsd2_fpkm[\"ps\"] != 2]\n",
    "\n",
    "del df_bsd2_fpkm[\"MAIZE_MAPMAN_CATEGORY\"]\n",
    "\n",
    "df_bsd2_fpkm = df_bsd2_fpkm[df_bsd2_fpkm[\"ps\"] != 3]\n",
    "\n",
    "df_bsd2_fpkm.to_csv(\"feature_dataset/bsd2_dataset.csv\",index=False)"
   ]
  },
  {
   "cell_type": "markdown",
   "metadata": {},
   "source": [
    "# cps2dataset"
   ]
  },
  {
   "cell_type": "code",
   "execution_count": 80,
   "metadata": {},
   "outputs": [],
   "source": [
    "df_cps2_fpkm = df_cps2_fpkm.merge(maize_an,on='GeneID')\n",
    "df_cps2_fpkm[\"ps\"] = df_cps2_fpkm[\"MAIZE_MAPMAN_CATEGORY\"].apply(lambda x : guang(x))\n",
    "\n",
    "df_cps2_fpkm = df_cps2_fpkm[df_cps2_fpkm[\"ps\"] != 2]\n",
    "\n",
    "del df_cps2_fpkm[\"MAIZE_MAPMAN_CATEGORY\"]\n",
    "\n",
    "df_cps2_fpkm = df_cps2_fpkm[df_cps2_fpkm[\"ps\"] != 3]\n",
    "\n",
    "df_cps2_fpkm.to_csv(\"feature_dataset/cps2_dataset.csv\",index=False)"
   ]
  },
  {
   "cell_type": "markdown",
   "metadata": {},
   "source": [
    "# hcf136dataset"
   ]
  },
  {
   "cell_type": "code",
   "execution_count": 81,
   "metadata": {},
   "outputs": [],
   "source": [
    "df_hcf136_fpkm = df_hcf136_fpkm.merge(maize_an,on='GeneID')\n",
    "df_hcf136_fpkm[\"ps\"] = df_hcf136_fpkm[\"MAIZE_MAPMAN_CATEGORY\"].apply(lambda x : guang(x))\n",
    "\n",
    "df_hcf136_fpkm = df_hcf136_fpkm[df_hcf136_fpkm[\"ps\"] != 2]\n",
    "\n",
    "del df_hcf136_fpkm[\"MAIZE_MAPMAN_CATEGORY\"]\n",
    "\n",
    "df_hcf136_fpkm = df_hcf136_fpkm[df_hcf136_fpkm[\"ps\"] != 3]\n",
    "\n",
    "df_hcf136_fpkm.to_csv(\"feature_dataset/hcf136_dataset.csv\",index=False)"
   ]
  },
  {
   "cell_type": "markdown",
   "metadata": {},
   "source": [
    "# pet2dataset"
   ]
  },
  {
   "cell_type": "code",
   "execution_count": 82,
   "metadata": {},
   "outputs": [],
   "source": [
    "df_pet2_fpkm = df_pet2_fpkm.merge(maize_an,on='GeneID')\n",
    "df_pet2_fpkm[\"ps\"] = df_pet2_fpkm[\"MAIZE_MAPMAN_CATEGORY\"].apply(lambda x : guang(x))\n",
    "\n",
    "df_pet2_fpkm = df_pet2_fpkm[df_pet2_fpkm[\"ps\"] != 2]\n",
    "\n",
    "del df_pet2_fpkm[\"MAIZE_MAPMAN_CATEGORY\"]\n",
    "\n",
    "df_pet2_fpkm = df_pet2_fpkm[df_pet2_fpkm[\"ps\"] != 3]\n",
    "\n",
    "df_pet2_fpkm.to_csv(\"feature_dataset/pet2_dataset.csv\",index=False)"
   ]
  },
  {
   "cell_type": "markdown",
   "metadata": {},
   "source": [
    "# pyg56dataset"
   ]
  },
  {
   "cell_type": "code",
   "execution_count": 83,
   "metadata": {},
   "outputs": [],
   "source": [
    "df_pyg56_fpkm = df_pyg56_fpkm.merge(maize_an,on='GeneID')\n",
    "df_pyg56_fpkm[\"ps\"] = df_pyg56_fpkm[\"MAIZE_MAPMAN_CATEGORY\"].apply(lambda x : guang(x))\n",
    "\n",
    "df_pyg56_fpkm = df_pyg56_fpkm[df_pyg56_fpkm[\"ps\"] != 2]\n",
    "\n",
    "del df_pyg56_fpkm[\"MAIZE_MAPMAN_CATEGORY\"]\n",
    "\n",
    "df_pyg56_fpkm = df_pyg56_fpkm[df_pyg56_fpkm[\"ps\"] != 3]\n",
    "\n",
    "df_pyg56_fpkm.to_csv(\"feature_dataset/pyg56_dataset.csv\",index=False)"
   ]
  },
  {
   "cell_type": "code",
   "execution_count": null,
   "metadata": {},
   "outputs": [],
   "source": []
  }
 ],
 "metadata": {
  "kernelspec": {
   "display_name": "Python 3",
   "language": "python",
   "name": "python3"
  },
  "language_info": {
   "codemirror_mode": {
    "name": "ipython",
    "version": 3
   },
   "file_extension": ".py",
   "mimetype": "text/x-python",
   "name": "python",
   "nbconvert_exporter": "python",
   "pygments_lexer": "ipython3",
   "version": "3.8.8"
  }
 },
 "nbformat": 4,
 "nbformat_minor": 4
}
