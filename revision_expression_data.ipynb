{
 "cells": [
  {
   "cell_type": "code",
   "execution_count": 1,
   "metadata": {},
   "outputs": [],
   "source": [
    "import pandas as pd"
   ]
  },
  {
   "cell_type": "code",
   "execution_count": 2,
   "metadata": {},
   "outputs": [],
   "source": [
    "an = pd.read_csv(\"feature_dataset/Dataset_an.csv\")\n",
    "df = pd.read_csv(\"raw_data/Zm_V4_15part.csv\")\n",
    "df = df.rename(columns={\"Unnamed: 0\":\"GeneID\"})\n",
    "del df[\"TF\"]\n",
    "del df['blade_max']\n",
    "df.columns = ['GeneID', 'Zm15_p1', 'Zm15_p2', 'Zm15_p3', 'Zm15_p4', 'Zm15_p5',\n",
    "       'Zm15_p6', 'Zm15_p7', 'Zm15_p8', 'Zm15_p9', 'Zm15_p10', 'Zm15_p11', 'Zm15_p12',\n",
    "       'Zm15_p13', 'Zm15_p14', 'Zm15_p15']"
   ]
  },
  {
   "cell_type": "code",
   "execution_count": 3,
   "metadata": {},
   "outputs": [],
   "source": [
    "maize_an = pd.read_csv(\"raw_data/Zea_Mercator4.csv\")\n",
    "maize_an.rename(columns={'geneid':'GeneID','NAME':'MAIZE_MAPMAN_CATEGORY'}, inplace = True)\n",
    "maize_an = maize_an[['GeneID',\"BINCODE\",'MAIZE_MAPMAN_CATEGORY',\"DESCRIPTION\"]]"
   ]
  },
  {
   "cell_type": "code",
   "execution_count": 4,
   "metadata": {},
   "outputs": [],
   "source": [
    "maize_an.drop_duplicates(subset=['GeneID'],keep='first',inplace=True)"
   ]
  },
  {
   "cell_type": "code",
   "execution_count": 5,
   "metadata": {},
   "outputs": [],
   "source": [
    "df.drop_duplicates(subset=['GeneID'],keep='first',inplace=True)"
   ]
  },
  {
   "cell_type": "code",
   "execution_count": 6,
   "metadata": {},
   "outputs": [],
   "source": [
    "an.drop_duplicates(subset=['GeneID'],keep='first',inplace=True)"
   ]
  },
  {
   "cell_type": "code",
   "execution_count": 7,
   "metadata": {},
   "outputs": [],
   "source": [
    "an = an[an[\"ps\"] == 1]\n",
    "an = an[[\"GeneID\"]]"
   ]
  },
  {
   "cell_type": "code",
   "execution_count": 8,
   "metadata": {},
   "outputs": [],
   "source": [
    "an = an.merge(df,on=\"GeneID\")"
   ]
  },
  {
   "cell_type": "code",
   "execution_count": 9,
   "metadata": {},
   "outputs": [],
   "source": [
    "an = an.merge(maize_an,on=\"GeneID\")"
   ]
  },
  {
   "cell_type": "code",
   "execution_count": 10,
   "metadata": {},
   "outputs": [],
   "source": [
    "pf = list(an[an[\"Zm15_p1\"]+an[\"Zm15_p2\"]-an[\"Zm15_p15\"]-an[\"Zm15_p14\"]> 0][\"GeneID\"])"
   ]
  },
  {
   "cell_type": "code",
   "execution_count": 11,
   "metadata": {},
   "outputs": [],
   "source": [
    "pf_1 = list(an[an[\"Zm15_p1\"]+an[\"Zm15_p2\"]+an[\"Zm15_p15\"]+an[\"Zm15_p14\"]+an[\"Zm15_p3\"]+an[\"Zm15_p4\"]<6][\"GeneID\"])"
   ]
  },
  {
   "cell_type": "code",
   "execution_count": 12,
   "metadata": {},
   "outputs": [],
   "source": [
    "def pan(x):\n",
    "    a = 0\n",
    "    if x in pf:\n",
    "        a = 1\n",
    "    if x in pf_1:\n",
    "        a = 1\n",
    "    return a"
   ]
  },
  {
   "cell_type": "code",
   "execution_count": 13,
   "metadata": {},
   "outputs": [],
   "source": [
    "an[\"pick\"] = an[\"GeneID\"].apply(lambda x : pan(x))"
   ]
  },
  {
   "cell_type": "code",
   "execution_count": 14,
   "metadata": {},
   "outputs": [],
   "source": [
    "an.to_excel(\"feature_dataset/biao.xlsx\",index = False)"
   ]
  },
  {
   "cell_type": "markdown",
   "metadata": {},
   "source": [
    "### We selected photosynthetic-related genes that might be mislabeled through annotations."
   ]
  },
  {
   "cell_type": "code",
   "execution_count": 15,
   "metadata": {},
   "outputs": [],
   "source": [
    "import pandas as pd"
   ]
  },
  {
   "cell_type": "code",
   "execution_count": 16,
   "metadata": {},
   "outputs": [],
   "source": [
    "an = pd.read_csv(\"feature_dataset/Dataset_an.csv\")\n",
    "df = pd.read_csv(\"raw_data/Zm_V4_15part.csv\")\n",
    "df = df.rename(columns={\"Unnamed: 0\":\"GeneID\"})\n",
    "del df[\"TF\"]\n",
    "del df['blade_max']\n",
    "df.columns = ['GeneID', 'Zm15_p1', 'Zm15_p2', 'Zm15_p3', 'Zm15_p4', 'Zm15_p5',\n",
    "       'Zm15_p6', 'Zm15_p7', 'Zm15_p8', 'Zm15_p9', 'Zm15_p10', 'Zm15_p11', 'Zm15_p12',\n",
    "       'Zm15_p13', 'Zm15_p14', 'Zm15_p15']\n",
    "df.drop_duplicates(subset=['GeneID'],keep='first',inplace=True)\n",
    "an.drop_duplicates(subset=['GeneID'],keep='first',inplace=True)\n",
    "an = an[[\"GeneID\",\"ps\"]]\n",
    "an_t = an[an[\"ps\"] == 1]\n",
    "an_f = an[an[\"ps\"] == 0]\n",
    "an_t = an_t.merge(df,on=\"GeneID\")\n",
    "an_f = an_f.merge(df,on=\"GeneID\")\n",
    "an_t = an_t[an_t[\"Zm15_p1\"]+an_t[\"Zm15_p2\"]-an_t[\"Zm15_p15\"]-an_t[\"Zm15_p14\"] < 0]\n",
    "an_t = an_t[an_t[\"Zm15_p1\"]+an_t[\"Zm15_p2\"]+an_t[\"Zm15_p15\"]+an_t[\"Zm15_p14\"]+an_t[\"Zm15_p3\"]+an_t[\"Zm15_p4\"]>6]"
   ]
  },
  {
   "cell_type": "code",
   "execution_count": 17,
   "metadata": {},
   "outputs": [],
   "source": [
    "a = [\"Zm00001d015724\",\n",
    "\"Zm00001d030381\",\n",
    "\"Zm00001d033799\",\n",
    "\"Zm00001d046935\",\n",
    "\"Zm00001d003477\",\n",
    "\"Zm00001d016698\",\n",
    "\"Zm00001d032353\",\n",
    "\"Zm00001d014193\",\n",
    "\"Zm00001d037834\",\n",
    "\"Zm00001d027877\",\n",
    "\"Zm00001d039530\",\n",
    "\"Zm00001d036524\",\n",
    "\"Zm00001d015290\",\n",
    "\"Zm00001d050341\",\n",
    "\"Zm00001d014030\",\n",
    "\"Zm00001d020057\",\n",
    "\"Zm00001d018429\",\n",
    "\"Zm00001d003781\",\n",
    "\"Zm00001d044095\",\n",
    "\"Zm00001d020764\",\n",
    "\"Zm00001d005920\",\n",
    "\"Zm00001d011454\",\n",
    "\"Zm00001d002131\",\n",
    "\"Zm00001d029200\",\n",
    "\"Zm00001d000260\",\n",
    "\"Zm00001d030544\",\n",
    "\"Zm00001d004451\",\n",
    "\"Zm00001d024906\",\n",
    "\"Zm00001d034887\",\n",
    "\"Zm00001d012247\",\n",
    "\"Zm00001d044599\",\n",
    "\"Zm00001d023240\",\n",
    "\"Zm00001d017778\"]"
   ]
  },
  {
   "cell_type": "code",
   "execution_count": 18,
   "metadata": {},
   "outputs": [],
   "source": [
    "for i in a:\n",
    "    an_t.drop(an_t[an_t.GeneID == i].index, inplace=True)"
   ]
  },
  {
   "cell_type": "code",
   "execution_count": 19,
   "metadata": {},
   "outputs": [
    {
     "data": {
      "text/plain": [
       "220"
      ]
     },
     "execution_count": 19,
     "metadata": {},
     "output_type": "execute_result"
    }
   ],
   "source": [
    "len(an_t)"
   ]
  },
  {
   "cell_type": "code",
   "execution_count": 20,
   "metadata": {},
   "outputs": [],
   "source": [
    "df = pd.concat([an_t,an_f])"
   ]
  },
  {
   "cell_type": "code",
   "execution_count": 21,
   "metadata": {},
   "outputs": [],
   "source": [
    "df = df[[\"GeneID\"]]"
   ]
  },
  {
   "cell_type": "code",
   "execution_count": 22,
   "metadata": {},
   "outputs": [],
   "source": [
    "an = pd.read_csv(\"feature_dataset/Dataset_an.csv\")\n",
    "df = df.merge(an,on = \"GeneID\")"
   ]
  },
  {
   "cell_type": "code",
   "execution_count": 24,
   "metadata": {},
   "outputs": [],
   "source": [
    "df.to_csv(\"feature_dataset/Dataset_an.csv\",index=False)"
   ]
  },
  {
   "cell_type": "code",
   "execution_count": null,
   "metadata": {},
   "outputs": [],
   "source": []
  },
  {
   "cell_type": "code",
   "execution_count": null,
   "metadata": {},
   "outputs": [],
   "source": []
  },
  {
   "cell_type": "code",
   "execution_count": null,
   "metadata": {},
   "outputs": [],
   "source": []
  },
  {
   "cell_type": "code",
   "execution_count": null,
   "metadata": {},
   "outputs": [],
   "source": []
  },
  {
   "cell_type": "code",
   "execution_count": null,
   "metadata": {},
   "outputs": [],
   "source": []
  },
  {
   "cell_type": "code",
   "execution_count": null,
   "metadata": {},
   "outputs": [],
   "source": []
  },
  {
   "cell_type": "code",
   "execution_count": null,
   "metadata": {},
   "outputs": [],
   "source": []
  },
  {
   "cell_type": "code",
   "execution_count": null,
   "metadata": {},
   "outputs": [],
   "source": []
  }
 ],
 "metadata": {
  "kernelspec": {
   "display_name": "Python 3",
   "language": "python",
   "name": "python3"
  },
  "language_info": {
   "codemirror_mode": {
    "name": "ipython",
    "version": 3
   },
   "file_extension": ".py",
   "mimetype": "text/x-python",
   "name": "python",
   "nbconvert_exporter": "python",
   "pygments_lexer": "ipython3",
   "version": "3.8.8"
  }
 },
 "nbformat": 4,
 "nbformat_minor": 4
}
