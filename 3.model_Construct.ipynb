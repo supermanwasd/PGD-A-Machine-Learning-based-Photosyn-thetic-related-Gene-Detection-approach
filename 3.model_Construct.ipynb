{
 "cells": [
  {
   "cell_type": "code",
   "execution_count": 1,
   "metadata": {},
   "outputs": [],
   "source": [
    "import pandas as pd\n",
    "import numpy as np\n",
    "from sklearn.model_selection import StratifiedKFold\n",
    "from catboost import CatBoostClassifier\n",
    "from sklearn import metrics\n",
    "from sklearn.model_selection import train_test_split\n",
    "from xgboost import XGBClassifier\n",
    "import lightgbm as lgb\n",
    "from sklearn.ensemble import RandomForestClassifier\n",
    "from sklearn.linear_model import LogisticRegression\n",
    "import matplotlib.pyplot as plt\n",
    "import seaborn as sns\n",
    "import warnings\n",
    "warnings.filterwarnings(\"ignore\")"
   ]
  },
  {
   "cell_type": "code",
   "execution_count": 2,
   "metadata": {},
   "outputs": [
    {
     "name": "stdout",
     "output_type": "stream",
     "text": [
      "Sklearn verion is 1.0.2\n"
     ]
    }
   ],
   "source": [
    "import sklearn\n",
    "print(\"Sklearn verion is {}\".format(sklearn.__version__))"
   ]
  },
  {
   "cell_type": "code",
   "execution_count": 3,
   "metadata": {},
   "outputs": [],
   "source": [
    "df_data = pd.read_csv(\"feature_dataset/Dataset_an.csv\")"
   ]
  },
  {
   "cell_type": "code",
   "execution_count": 4,
   "metadata": {},
   "outputs": [],
   "source": [
    "feat = []\n",
    "for i in df_data.columns:\n",
    "    if i != \"GeneID\":\n",
    "        if i != \"ps\":\n",
    "            feat.append(i)"
   ]
  },
  {
   "cell_type": "code",
   "execution_count": 5,
   "metadata": {},
   "outputs": [],
   "source": [
    "def lgb_p(x):\n",
    "    y = 0\n",
    "    if x > 0.5:\n",
    "        y = 1\n",
    "    return y"
   ]
  },
  {
   "cell_type": "markdown",
   "metadata": {},
   "source": [
    "# lightgbm"
   ]
  },
  {
   "cell_type": "code",
   "execution_count": 6,
   "metadata": {},
   "outputs": [
    {
     "name": "stdout",
     "output_type": "stream",
     "text": [
      "[LightGBM] [Info] Number of positive: 176, number of negative: 324\n",
      "[LightGBM] [Info] Total Bins 54905\n",
      "[LightGBM] [Info] Number of data points in the train set: 500, number of used features: 331\n",
      "[LightGBM] [Info] [binary:BoostFromScore]: pavg=0.352000 -> initscore=-0.610260\n",
      "[LightGBM] [Info] Start training from score -0.610260\n",
      "lgb_answer 0.9421997755331089\n",
      "lgb_answer_recall 0.952\n",
      "[LightGBM] [Info] Number of positive: 176, number of negative: 324\n",
      "[LightGBM] [Info] Total Bins 54920\n",
      "[LightGBM] [Info] Number of data points in the train set: 500, number of used features: 331\n",
      "[LightGBM] [Info] [binary:BoostFromScore]: pavg=0.352000 -> initscore=-0.610260\n",
      "[LightGBM] [Info] Start training from score -0.610260\n",
      "[LightGBM] [Warning] No further splits with positive gain, best gain: -inf\n",
      "lgb_answer 0.9587542087542088\n",
      "lgb_answer_recall 0.96\n",
      "[LightGBM] [Info] Number of positive: 176, number of negative: 324\n",
      "[LightGBM] [Info] Total Bins 54928\n",
      "[LightGBM] [Info] Number of data points in the train set: 500, number of used features: 331\n",
      "[LightGBM] [Info] [binary:BoostFromScore]: pavg=0.352000 -> initscore=-0.610260\n",
      "[LightGBM] [Info] Start training from score -0.610260\n",
      "lgb_answer 0.9525813692480359\n",
      "lgb_answer_recall 0.952\n",
      "[LightGBM] [Info] Number of positive: 176, number of negative: 324\n",
      "[LightGBM] [Info] Total Bins 54927\n",
      "[LightGBM] [Info] Number of data points in the train set: 500, number of used features: 331\n",
      "[LightGBM] [Info] [binary:BoostFromScore]: pavg=0.352000 -> initscore=-0.610260\n",
      "[LightGBM] [Info] Start training from score -0.610260\n",
      "lgb_answer 0.9308361391694724\n",
      "lgb_answer_recall 0.944\n",
      "[LightGBM] [Info] Number of positive: 176, number of negative: 324\n",
      "[LightGBM] [Info] Total Bins 54934\n",
      "[LightGBM] [Info] Number of data points in the train set: 500, number of used features: 331\n",
      "[LightGBM] [Info] [binary:BoostFromScore]: pavg=0.352000 -> initscore=-0.610260\n",
      "[LightGBM] [Info] Start training from score -0.610260\n",
      "lgb_answer 0.9236812570145904\n",
      "lgb_answer_recall 0.928\n"
     ]
    }
   ],
   "source": [
    "kfold = StratifiedKFold(n_splits=5,random_state=1024, shuffle=True).split(df_data[feat],df_data[\"ps\"])\n",
    "lgb_answer = []\n",
    "lgb_answer_recall = []\n",
    "\n",
    "for fold, (train_idx, valid_idx) in enumerate(kfold):\n",
    "    df = pd.DataFrame()\n",
    "    X_train, y_train = df_data[feat].iloc[train_idx], df_data[\"ps\"].iloc[train_idx]\n",
    "    X_valid, y_valid = df_data[feat].iloc[valid_idx], df_data[\"ps\"].iloc[valid_idx]\n",
    "\n",
    "    \n",
    "    train_lgb = lgb.Dataset(data=X_train,label=y_train)\n",
    "\n",
    "    param = {'num_leaves':8, 'num_trees':20, 'objective':'binary',\n",
    "             'boost_from_average': True,'force_row_wise':True,'metric':'auc',\n",
    "            'data_random_seed': 2020,'seed': 2020}\n",
    "\n",
    "    bst = lgb.train(param, train_lgb)\n",
    "\n",
    "    y_pred = bst.predict(X_valid)\n",
    "    df[\"lgb\"] = y_pred\n",
    "    df[\"x\"] = df[\"lgb\"].apply(lambda x:lgb_p(x))\n",
    "    fpr, tpr, thresholds = metrics.roc_curve(y_valid,list(df[\"x\"]))\n",
    "    test_auc = metrics.auc(fpr, tpr)\n",
    "    d = metrics.recall_score(y_valid, df[\"x\"], average='micro')\n",
    "    lgb_answer.append(test_auc)\n",
    "    lgb_answer_recall.append(d)\n",
    "    print(\"lgb_answer\",test_auc)\n",
    "    print(\"lgb_answer_recall\",d)"
   ]
  },
  {
   "cell_type": "markdown",
   "metadata": {},
   "source": [
    "# Xgb"
   ]
  },
  {
   "cell_type": "code",
   "execution_count": 7,
   "metadata": {},
   "outputs": [
    {
     "name": "stdout",
     "output_type": "stream",
     "text": [
      "0.9360269360269362\n",
      "0.944\n",
      "0.9483726150392817\n",
      "0.96\n",
      "0.9402356902356903\n",
      "0.936\n",
      "0.9421997755331089\n",
      "0.952\n",
      "0.9184904601571268\n",
      "0.928\n"
     ]
    }
   ],
   "source": [
    "kfold = StratifiedKFold(n_splits=5, random_state=1024, shuffle=True).split(df_data[feat],df_data[\"ps\"])\n",
    "xgb_answer = []\n",
    "xgb_answer_recall = []\n",
    "for fold, (train_idx, valid_idx) in enumerate(kfold):\n",
    "    X_train, y_train = df_data[feat].iloc[train_idx], df_data[\"ps\"].iloc[train_idx]\n",
    "    X_valid, y_valid = df_data[feat].iloc[valid_idx], df_data[\"ps\"].iloc[valid_idx]\n",
    "\n",
    "    model = XGBClassifier(max_depth=30,booster='gbtree',\n",
    "                          random_state=2020)\n",
    "\n",
    "    model.fit(X_train,y_train,\n",
    "              eval_metric=\"auc\")\n",
    "    y_pred = model.predict(X_valid)\n",
    "    fpr, tpr, thresholds = metrics.roc_curve(y_valid,y_pred)\n",
    "    test_auc = metrics.auc(fpr, tpr)\n",
    "    d = metrics.recall_score(y_valid, y_pred, average='micro')\n",
    "    xgb_answer.append(test_auc)\n",
    "    xgb_answer_recall.append(d)\n",
    "    print(test_auc)\n",
    "    print(d)"
   ]
  },
  {
   "cell_type": "markdown",
   "metadata": {},
   "source": [
    "# Catboost"
   ]
  },
  {
   "cell_type": "code",
   "execution_count": 8,
   "metadata": {},
   "outputs": [
    {
     "name": "stdout",
     "output_type": "stream",
     "text": [
      "0:\ttotal: 59.3ms\tremaining: 59.3ms\n",
      "1:\ttotal: 83.6ms\tremaining: 0us\n",
      "0.9308361391694724\n",
      "0.944\n",
      "0:\ttotal: 14.9ms\tremaining: 14.9ms\n",
      "1:\ttotal: 28.8ms\tremaining: 0us\n",
      "0.861672278338945\n",
      "0.888\n",
      "0:\ttotal: 13.7ms\tremaining: 13.7ms\n",
      "1:\ttotal: 27.7ms\tremaining: 0us\n",
      "0.9061447811447811\n",
      "0.912\n",
      "0:\ttotal: 14.1ms\tremaining: 14.1ms\n",
      "1:\ttotal: 28.2ms\tremaining: 0us\n",
      "0.9535634118967452\n",
      "0.96\n",
      "0:\ttotal: 14.6ms\tremaining: 14.6ms\n",
      "1:\ttotal: 28.5ms\tremaining: 0us\n",
      "0.9236812570145904\n",
      "0.928\n"
     ]
    }
   ],
   "source": [
    "kfold = StratifiedKFold(n_splits=5, random_state=1024, shuffle=True).split(df_data[feat],df_data[\"ps\"])\n",
    "catboost_answer = []\n",
    "catboost_answer_recall = []\n",
    "for fold, (train_idx, valid_idx) in enumerate(kfold):\n",
    "    X_train, y_train = df_data[feat].iloc[train_idx], df_data[\"ps\"].iloc[train_idx]\n",
    "    X_valid, y_valid = df_data[feat].iloc[valid_idx], df_data[\"ps\"].iloc[valid_idx]\n",
    "\n",
    "    model=CatBoostClassifier(\n",
    "                loss_function=\"Logloss\",\n",
    "                eval_metric=\"AUC\",\n",
    "                task_type=\"CPU\",\n",
    "                learning_rate=0.1,\n",
    "                iterations=2,\n",
    "                random_seed=2020,\n",
    "                od_type=\"Iter\",\n",
    "                depth=7,\n",
    "                early_stopping_rounds=500\n",
    "\n",
    "            )\n",
    "\n",
    "\n",
    "    clf = model.fit(X_train,y_train,verbose=500)\n",
    "    predict_prob_y = clf.predict(X_valid)\n",
    "    fpr, tpr, thresholds = metrics.roc_curve(y_valid,predict_prob_y)\n",
    "    test_auc = metrics.auc(fpr, tpr)\n",
    "    d = metrics.recall_score(y_valid, predict_prob_y, average='micro')\n",
    "    catboost_answer.append(test_auc)\n",
    "    catboost_answer_recall.append(d)\n",
    "    print(test_auc)\n",
    "    print(d)"
   ]
  },
  {
   "cell_type": "markdown",
   "metadata": {},
   "source": [
    "# Random Forests"
   ]
  },
  {
   "cell_type": "code",
   "execution_count": 9,
   "metadata": {},
   "outputs": [
    {
     "name": "stdout",
     "output_type": "stream",
     "text": [
      "0.9483726150392817\n",
      "0.9412177328843995\n",
      "0.9236812570145904\n",
      "0.9483726150392817\n",
      "0.8957631874298541\n"
     ]
    }
   ],
   "source": [
    "kfold = StratifiedKFold(n_splits=5, random_state=1024, shuffle=True).split(df_data[feat],df_data[\"ps\"])\n",
    "RandomForest_answer = []\n",
    "RandomForest_answer_recall = []\n",
    "for fold, (train_idx, valid_idx) in enumerate(kfold):\n",
    "    X_train, y_train = df_data[feat].iloc[train_idx], df_data[\"ps\"].iloc[train_idx]\n",
    "    X_valid, y_valid = df_data[feat].iloc[valid_idx], df_data[\"ps\"].iloc[valid_idx]\n",
    "\n",
    "    #XX_valid,test_X,yy_valid,test_y = train_test_split(X_valid,y_valid,\n",
    "    #                                                test_size=0.5,random_state=2020)\n",
    "\n",
    "    \n",
    "    model = RandomForestClassifier(n_estimators=50, random_state=2020)\n",
    "\n",
    "    clf = model.fit(X_train,y_train)\n",
    "    predict_prob_y = clf.predict(X_valid)\n",
    "    fpr, tpr, thresholds = metrics.roc_curve(y_valid,predict_prob_y)\n",
    "    test_auc = metrics.auc(fpr, tpr)\n",
    "    d = metrics.recall_score(y_valid, predict_prob_y, average='micro')\n",
    "    RandomForest_answer.append(test_auc)\n",
    "    RandomForest_answer_recall.append(d)\n",
    "    print(test_auc)"
   ]
  },
  {
   "cell_type": "markdown",
   "metadata": {},
   "source": [
    "# vote"
   ]
  },
  {
   "cell_type": "code",
   "execution_count": 10,
   "metadata": {},
   "outputs": [
    {
     "name": "stdout",
     "output_type": "stream",
     "text": [
      "0:\ttotal: 14.4ms\tremaining: 14.4ms\n",
      "1:\ttotal: 28.1ms\tremaining: 0us\n",
      "[LightGBM] [Info] Number of positive: 176, number of negative: 324\n",
      "[LightGBM] [Info] Total Bins 54905\n",
      "[LightGBM] [Info] Number of data points in the train set: 500, number of used features: 331\n",
      "[LightGBM] [Info] [binary:BoostFromScore]: pavg=0.352000 -> initscore=-0.610260\n",
      "[LightGBM] [Info] Start training from score -0.610260\n",
      "aaaaa: 0.9421997755331089\n",
      "0:\ttotal: 13.3ms\tremaining: 13.3ms\n",
      "1:\ttotal: 27.7ms\tremaining: 0us\n",
      "[LightGBM] [Info] Number of positive: 176, number of negative: 324\n",
      "[LightGBM] [Info] Total Bins 54920\n",
      "[LightGBM] [Info] Number of data points in the train set: 500, number of used features: 331\n",
      "[LightGBM] [Info] [binary:BoostFromScore]: pavg=0.352000 -> initscore=-0.610260\n",
      "[LightGBM] [Info] Start training from score -0.610260\n",
      "[LightGBM] [Warning] No further splits with positive gain, best gain: -inf\n",
      "aaaaa: 0.9639450056116723\n",
      "0:\ttotal: 13.3ms\tremaining: 13.3ms\n",
      "1:\ttotal: 27.6ms\tremaining: 0us\n",
      "[LightGBM] [Info] Number of positive: 176, number of negative: 324\n",
      "[LightGBM] [Info] Total Bins 54928\n",
      "[LightGBM] [Info] Number of data points in the train set: 500, number of used features: 331\n",
      "[LightGBM] [Info] [binary:BoostFromScore]: pavg=0.352000 -> initscore=-0.610260\n",
      "[LightGBM] [Info] Start training from score -0.610260\n",
      "aaaaa: 0.9402356902356903\n",
      "0:\ttotal: 13.4ms\tremaining: 13.4ms\n",
      "1:\ttotal: 27.6ms\tremaining: 0us\n",
      "[LightGBM] [Info] Number of positive: 176, number of negative: 324\n",
      "[LightGBM] [Info] Total Bins 54927\n",
      "[LightGBM] [Info] Number of data points in the train set: 500, number of used features: 331\n",
      "[LightGBM] [Info] [binary:BoostFromScore]: pavg=0.352000 -> initscore=-0.610260\n",
      "[LightGBM] [Info] Start training from score -0.610260\n",
      "aaaaa: 0.9649270482603817\n",
      "0:\ttotal: 14.2ms\tremaining: 14.2ms\n",
      "1:\ttotal: 28.4ms\tremaining: 0us\n",
      "[LightGBM] [Info] Number of positive: 176, number of negative: 324\n",
      "[LightGBM] [Info] Total Bins 54934\n",
      "[LightGBM] [Info] Number of data points in the train set: 500, number of used features: 331\n",
      "[LightGBM] [Info] [binary:BoostFromScore]: pavg=0.352000 -> initscore=-0.610260\n",
      "[LightGBM] [Info] Start training from score -0.610260\n",
      "aaaaa: 0.9236812570145904\n"
     ]
    }
   ],
   "source": [
    "feat = []\n",
    "for i in df_data.columns:\n",
    "    if i != \"GeneID\":\n",
    "        if i != \"ps\":\n",
    "            feat.append(i)\n",
    "kfold = StratifiedKFold(n_splits=5, random_state=1024, shuffle=True).split(df_data[feat],df_data[\"ps\"])\n",
    "vote_answer = []\n",
    "vote_answer_recall = []\n",
    "for fold, (train_idx, valid_idx) in enumerate(kfold):\n",
    "    df11 = pd.DataFrame()\n",
    "    X_train, y_train = df_data[feat].iloc[train_idx], df_data[\"ps\"].iloc[train_idx]\n",
    "    X_valid, y_valid = df_data[feat].iloc[valid_idx], df_data[\"ps\"].iloc[valid_idx]\n",
    "\n",
    "    #XX_valid,test_X,yy_valid,test_y = train_test_split(X_valid,y_valid,\n",
    "    #                                                 test_size=0.5,random_state=2020)\n",
    "    rf = RandomForestClassifier(n_estimators=50, random_state=2020)\n",
    "\n",
    "    clf = rf.fit(X_train,y_train)\n",
    "    rf_y = clf.predict(X_valid)\n",
    "    \n",
    "    model=CatBoostClassifier(\n",
    "                loss_function=\"Logloss\",\n",
    "                eval_metric=\"AUC\",\n",
    "                task_type=\"CPU\",\n",
    "                learning_rate=0.1,\n",
    "                iterations=2,\n",
    "                random_seed=2020,\n",
    "                od_type=\"Iter\",\n",
    "                depth=7)\n",
    "\n",
    "    clf = model.fit(X_train,y_train,verbose=500)\n",
    "    cat_y = clf.predict(X_valid)\n",
    "    \n",
    "    model = XGBClassifier(max_depth=30,booster='gbtree',\n",
    "                          random_state=2020)\n",
    "    \n",
    "    model.fit(X_train,y_train,\n",
    "              eval_metric=\"auc\")\n",
    "    xgb_y = model.predict(X_valid)\n",
    "    \n",
    "    train_lgb = lgb.Dataset(data=X_train,label=y_train)\n",
    "    param = {'num_leaves':8, 'num_trees':20, 'objective':'binary',\n",
    "             'boost_from_average': True,'force_row_wise':True,'metric':'auc',\n",
    "            'data_random_seed': 2020,'seed': 2020}\n",
    "    bst = lgb.train(param, train_lgb)\n",
    "    y_pred = bst.predict(X_valid)\n",
    "    df11[\"lgb\"] = y_pred\n",
    "    lgb_y = df11[\"lgb\"].apply(lambda x:lgb_p(x))\n",
    "    \n",
    "    def vote(x):\n",
    "            y = 0\n",
    "            if abs(x) > 2:\n",
    "                y = 1\n",
    "            return y\n",
    "        \n",
    "    df_cat = pd.DataFrame(cat_y)\n",
    "    df_xgb = pd.DataFrame(xgb_y)\n",
    "    df_rf = pd.DataFrame(rf_y)\n",
    "    df_lgb = pd.DataFrame(list(lgb_y))\n",
    "    df = pd.DataFrame(df_lgb[0]*3 + df_xgb[0]*2 + df_rf[0]*2 + df_cat[0]*1)\n",
    "    df[1] = df[0].apply(lambda x : vote(x))\n",
    "    fpr, tpr, thresholds = metrics.roc_curve(y_valid,df[1])\n",
    "    d = metrics.recall_score(y_valid, df[1], average='micro')\n",
    "    test_auc = metrics.auc(fpr, tpr)\n",
    "    vote_answer.append(test_auc)\n",
    "    vote_answer_recall.append(d)\n",
    "    print(\"aaaaa:\",test_auc)"
   ]
  },
  {
   "cell_type": "markdown",
   "metadata": {},
   "source": [
    "# 可视化"
   ]
  },
  {
   "cell_type": "code",
   "execution_count": 11,
   "metadata": {},
   "outputs": [
    {
     "data": {
      "image/png": "[encoded data removed]",
      "text/plain": [
       "<Figure size 1800x360 with 4 Axes>"
      ]
     },
     "metadata": {
      "needs_background": "light"
     },
     "output_type": "display_data"
    }
   ],
   "source": [
    "fig = plt.figure(figsize=(10,2),dpi=180)\n",
    "# 创建子图1\n",
    "x=[1,2,3,4,5]\n",
    "sub1 = fig.add_subplot(1,4,1)\n",
    "plt.ylabel(\"AUC\",{\"size\":15})\n",
    "plt.tick_params(direction='in')\n",
    "plt.ylim((0.5, 1))\n",
    "plt.xlim((1, 5))\n",
    "sub1.plot(x,RandomForest_answer,label =\"Random Forests\", color='silver')\n",
    "plt.legend(loc='lower left',fontsize='small',frameon=False,prop={\"size\":8,'weight':\"bold\"})\n",
    " \n",
    "#创建子图2\n",
    "sub3 = fig.add_subplot(1,4,2)\n",
    "plt.ylim((0.5, 1))\n",
    "plt.xlim((1, 5))\n",
    "plt.tick_params(direction='in')\n",
    "plt.yticks([])  #去掉y轴\n",
    "sub3.plot(x,catboost_answer,label =\"Catboost\", color='lawngreen')\n",
    "plt.legend(loc='lower left',fontsize='small',frameon=False,prop={\"size\":8,'weight':\"bold\"})\n",
    " \n",
    "#创建子图3\n",
    "sub4 = fig.add_subplot(1,4,3)\n",
    "plt.ylim((0.5, 1))\n",
    "plt.xlim((1, 5))\n",
    "plt.tick_params(direction='in')\n",
    "plt.yticks([])  #去掉y轴\n",
    "sub4.plot(x,xgb_answer,label =\"XGB\", color='deepskyblue')\n",
    "plt.legend(loc='lower left',fontsize='small',frameon=False,prop={\"size\":8,'weight':\"bold\"})\n",
    "\n",
    "#创建子图4\n",
    "sub5 = fig.add_subplot(1,4,4)\n",
    "plt.yticks([])  #去掉y轴\n",
    "plt.ylim((0.5, 1))\n",
    "plt.xlim((1, 5))\n",
    "plt.tick_params(direction='in')\n",
    "sub5.plot(x,lgb_answer,label =\"GBDT\", color='pink')\n",
    "plt.legend(loc='lower left',fontsize='small',frameon=False,prop={\"size\":8,'weight':\"bold\"})\n",
    "\n",
    "plt.subplots_adjust(hspace=0.4,wspace=0.1)\n",
    "plt.show()"
   ]
  },
  {
   "cell_type": "code",
   "execution_count": 12,
   "metadata": {},
   "outputs": [
    {
     "data": {
      "image/png": "[encoded data removed]",
      "text/plain": [
       "<Figure size 1800x360 with 4 Axes>"
      ]
     },
     "metadata": {
      "needs_background": "light"
     },
     "output_type": "display_data"
    }
   ],
   "source": [
    "fig = plt.figure(figsize=(10,2),dpi=180)\n",
    "# 创建子图1\n",
    "x=[1,2,3,4,5]\n",
    "sub1 = fig.add_subplot(1,4,1)\n",
    "plt.ylabel(\"Recall\",{\"size\":15})\n",
    "plt.tick_params(direction='in')\n",
    "plt.ylim((0.5, 1))\n",
    "plt.xlim((1, 5))\n",
    "sub1.plot(x,RandomForest_answer_recall,label =\"Random Forests\", color='silver')\n",
    "plt.legend(loc='lower left',fontsize='small',frameon=False,prop={\"size\":8,'weight':\"bold\"})\n",
    " \n",
    "#创建子图2\n",
    "sub3 = fig.add_subplot(1,4,2)\n",
    "plt.ylim((0.5, 1))\n",
    "plt.xlim((1, 5))\n",
    "plt.tick_params(direction='in')\n",
    "plt.yticks([])  #去掉y轴\n",
    "sub3.plot(x,catboost_answer_recall,label =\"Catboost\", color='lawngreen')\n",
    "plt.legend(loc='lower left',fontsize='small',frameon=False,prop={\"size\":8,'weight':\"bold\"})\n",
    " \n",
    "#创建子图3\n",
    "sub4 = fig.add_subplot(1,4,3)\n",
    "plt.ylim((0.5, 1))\n",
    "plt.xlim((1, 5))\n",
    "plt.tick_params(direction='in')\n",
    "plt.yticks([])  #去掉y轴\n",
    "sub4.plot(x,xgb_answer_recall,label =\"XGB\", color='deepskyblue')\n",
    "plt.legend(loc='lower left',fontsize='small',frameon=False,prop={\"size\":8,'weight':\"bold\"})\n",
    "\n",
    "#创建子图4\n",
    "sub5 = fig.add_subplot(1,4,4)\n",
    "plt.yticks([])  #去掉y轴\n",
    "plt.ylim((0.5, 1))\n",
    "plt.xlim((1, 5))\n",
    "plt.tick_params(direction='in')\n",
    "sub5.plot(x,lgb_answer_recall,label =\"GBDT\", color='pink')\n",
    "plt.legend(loc='lower left',fontsize='small',frameon=False,prop={\"size\":8,'weight':\"bold\"})\n",
    "\n",
    "plt.subplots_adjust(hspace=0.4,wspace=0.1)\n",
    "plt.show()"
   ]
  },
  {
   "cell_type": "code",
   "execution_count": 13,
   "metadata": {},
   "outputs": [
    {
     "data": {
      "text/plain": [
       "[0.9483726150392817,\n",
       " 0.9412177328843995,\n",
       " 0.9236812570145904,\n",
       " 0.9483726150392817,\n",
       " 0.8957631874298541]"
      ]
     },
     "execution_count": 13,
     "metadata": {},
     "output_type": "execute_result"
    }
   ],
   "source": [
    "RandomForest_answer"
   ]
  },
  {
   "cell_type": "code",
   "execution_count": 14,
   "metadata": {},
   "outputs": [
    {
     "data": {
      "text/plain": [
       "[0.9308361391694724,\n",
       " 0.861672278338945,\n",
       " 0.9061447811447811,\n",
       " 0.9535634118967452,\n",
       " 0.9236812570145904]"
      ]
     },
     "execution_count": 14,
     "metadata": {},
     "output_type": "execute_result"
    }
   ],
   "source": [
    "catboost_answer"
   ]
  },
  {
   "cell_type": "code",
   "execution_count": 15,
   "metadata": {},
   "outputs": [
    {
     "data": {
      "text/plain": [
       "[0.9360269360269362,\n",
       " 0.9483726150392817,\n",
       " 0.9402356902356903,\n",
       " 0.9421997755331089,\n",
       " 0.9184904601571268]"
      ]
     },
     "execution_count": 15,
     "metadata": {},
     "output_type": "execute_result"
    }
   ],
   "source": [
    "xgb_answer"
   ]
  },
  {
   "cell_type": "code",
   "execution_count": 16,
   "metadata": {},
   "outputs": [
    {
     "data": {
      "text/plain": [
       "[0.9421997755331089,\n",
       " 0.9587542087542088,\n",
       " 0.9525813692480359,\n",
       " 0.9308361391694724,\n",
       " 0.9236812570145904]"
      ]
     },
     "execution_count": 16,
     "metadata": {},
     "output_type": "execute_result"
    }
   ],
   "source": [
    "lgb_answer"
   ]
  },
  {
   "cell_type": "code",
   "execution_count": 17,
   "metadata": {},
   "outputs": [
    {
     "data": {
      "text/plain": [
       "0.9314814814814815"
      ]
     },
     "execution_count": 17,
     "metadata": {},
     "output_type": "execute_result"
    }
   ],
   "source": [
    "import numpy as np\n",
    "np.mean(RandomForest_answer)"
   ]
  },
  {
   "cell_type": "code",
   "execution_count": 18,
   "metadata": {},
   "outputs": [
    {
     "data": {
      "text/plain": [
       "0.9416105499438834"
      ]
     },
     "execution_count": 18,
     "metadata": {},
     "output_type": "execute_result"
    }
   ],
   "source": [
    "np.mean(lgb_answer)"
   ]
  },
  {
   "cell_type": "code",
   "execution_count": 19,
   "metadata": {},
   "outputs": [
    {
     "data": {
      "text/plain": [
       "0.9469977553310887"
      ]
     },
     "execution_count": 19,
     "metadata": {},
     "output_type": "execute_result"
    }
   ],
   "source": [
    "np.mean(vote_answer)"
   ]
  },
  {
   "cell_type": "code",
   "execution_count": 20,
   "metadata": {},
   "outputs": [
    {
     "data": {
      "text/plain": [
       "[0.9421997755331089,\n",
       " 0.9639450056116723,\n",
       " 0.9402356902356903,\n",
       " 0.9649270482603817,\n",
       " 0.9236812570145904]"
      ]
     },
     "execution_count": 20,
     "metadata": {},
     "output_type": "execute_result"
    }
   ],
   "source": [
    "vote_answer"
   ]
  },
  {
   "cell_type": "code",
   "execution_count": 21,
   "metadata": {},
   "outputs": [
    {
     "data": {
      "text/plain": [
       "0.9469977553310887"
      ]
     },
     "execution_count": 21,
     "metadata": {},
     "output_type": "execute_result"
    }
   ],
   "source": [
    "np.mean(vote_answer)"
   ]
  },
  {
   "cell_type": "code",
   "execution_count": 22,
   "metadata": {},
   "outputs": [
    {
     "data": {
      "text/plain": [
       "[0.9483726150392817,\n",
       " 0.9412177328843995,\n",
       " 0.9236812570145904,\n",
       " 0.9483726150392817,\n",
       " 0.8957631874298541]"
      ]
     },
     "execution_count": 22,
     "metadata": {},
     "output_type": "execute_result"
    }
   ],
   "source": [
    "RandomForest_answer"
   ]
  },
  {
   "cell_type": "code",
   "execution_count": 23,
   "metadata": {},
   "outputs": [
    {
     "data": {
      "text/plain": [
       "[0.9308361391694724,\n",
       " 0.861672278338945,\n",
       " 0.9061447811447811,\n",
       " 0.9535634118967452,\n",
       " 0.9236812570145904]"
      ]
     },
     "execution_count": 23,
     "metadata": {},
     "output_type": "execute_result"
    }
   ],
   "source": [
    "catboost_answer"
   ]
  },
  {
   "cell_type": "code",
   "execution_count": 24,
   "metadata": {},
   "outputs": [
    {
     "data": {
      "text/plain": [
       "[0.9360269360269362,\n",
       " 0.9483726150392817,\n",
       " 0.9402356902356903,\n",
       " 0.9421997755331089,\n",
       " 0.9184904601571268]"
      ]
     },
     "execution_count": 24,
     "metadata": {},
     "output_type": "execute_result"
    }
   ],
   "source": [
    "xgb_answer"
   ]
  },
  {
   "cell_type": "code",
   "execution_count": 25,
   "metadata": {},
   "outputs": [
    {
     "data": {
      "text/plain": [
       "[0.9421997755331089,\n",
       " 0.9587542087542088,\n",
       " 0.9525813692480359,\n",
       " 0.9308361391694724,\n",
       " 0.9236812570145904]"
      ]
     },
     "execution_count": 25,
     "metadata": {},
     "output_type": "execute_result"
    }
   ],
   "source": [
    "lgb_answer"
   ]
  },
  {
   "cell_type": "markdown",
   "metadata": {},
   "source": [
    "# ATP4,bsd2,cps2,hcf136,pet2,pyg56 vs all"
   ]
  },
  {
   "cell_type": "code",
   "execution_count": 26,
   "metadata": {},
   "outputs": [],
   "source": [
    "df_ATP4 = pd.read_csv(\"feature_dataset/ATP4_dataset.csv\")\n",
    "df_bsd2 = pd.read_csv(\"feature_dataset/bsd2_dataset.csv\")\n",
    "df_cps2 = pd.read_csv(\"feature_dataset/cps2_dataset.csv\")\n",
    "df_hcf136 = pd.read_csv(\"feature_dataset/hcf136_dataset.csv\")\n",
    "df_pet2 = pd.read_csv(\"feature_dataset/pet2_dataset.csv\")\n",
    "df_pyg56 = pd.read_csv(\"feature_dataset/pyg56_dataset.csv\")"
   ]
  },
  {
   "cell_type": "code",
   "execution_count": 27,
   "metadata": {},
   "outputs": [],
   "source": [
    "feat = []\n",
    "for i in df_ATP4.columns:\n",
    "    if i != \"GeneID\":\n",
    "        if i != \"ps\":\n",
    "            feat.append(i)"
   ]
  },
  {
   "cell_type": "code",
   "execution_count": 28,
   "metadata": {},
   "outputs": [
    {
     "name": "stdout",
     "output_type": "stream",
     "text": [
      "0:\ttotal: 4.28ms\tremaining: 4.28ms\n",
      "1:\ttotal: 8.09ms\tremaining: 0us\n",
      "[LightGBM] [Info] Number of positive: 252, number of negative: 344\n",
      "[LightGBM] [Info] Total Bins 11125\n",
      "[LightGBM] [Info] Number of data points in the train set: 596, number of used features: 56\n",
      "[LightGBM] [Info] [binary:BoostFromScore]: pavg=0.422819 -> initscore=-0.311213\n",
      "[LightGBM] [Info] Start training from score -0.311213\n",
      "aaaaa: 0.8773619186046512\n",
      "0:\ttotal: 13.1ms\tremaining: 13.1ms\n",
      "1:\ttotal: 16.5ms\tremaining: 0us\n",
      "[LightGBM] [Info] Number of positive: 253, number of negative: 344\n",
      "[LightGBM] [Info] Total Bins 11140\n",
      "[LightGBM] [Info] Number of data points in the train set: 597, number of used features: 56\n",
      "[LightGBM] [Info] [binary:BoostFromScore]: pavg=0.423786 -> initscore=-0.307252\n",
      "[LightGBM] [Info] Start training from score -0.307252\n",
      "aaaaa: 0.879937246216316\n",
      "0:\ttotal: 3.52ms\tremaining: 3.52ms\n",
      "1:\ttotal: 6.52ms\tremaining: 0us\n",
      "[LightGBM] [Info] Number of positive: 253, number of negative: 344\n",
      "[LightGBM] [Info] Total Bins 11145\n",
      "[LightGBM] [Info] Number of data points in the train set: 597, number of used features: 56\n",
      "[LightGBM] [Info] [binary:BoostFromScore]: pavg=0.423786 -> initscore=-0.307252\n",
      "[LightGBM] [Info] Start training from score -0.307252\n",
      "aaaaa: 0.8301956441491325\n",
      "0:\ttotal: 9.59ms\tremaining: 9.59ms\n",
      "1:\ttotal: 12.5ms\tremaining: 0us\n",
      "[LightGBM] [Info] Number of positive: 253, number of negative: 344\n",
      "[LightGBM] [Info] Total Bins 11155\n",
      "[LightGBM] [Info] Number of data points in the train set: 597, number of used features: 56\n",
      "[LightGBM] [Info] [binary:BoostFromScore]: pavg=0.423786 -> initscore=-0.307252\n",
      "[LightGBM] [Info] Start training from score -0.307252\n",
      "aaaaa: 0.8307493540051679\n",
      "0:\ttotal: 11.5ms\tremaining: 11.5ms\n",
      "1:\ttotal: 14.4ms\tremaining: 0us\n",
      "[LightGBM] [Info] Number of positive: 253, number of negative: 344\n",
      "[LightGBM] [Info] Total Bins 11145\n",
      "[LightGBM] [Info] Number of data points in the train set: 597, number of used features: 56\n",
      "[LightGBM] [Info] [binary:BoostFromScore]: pavg=0.423786 -> initscore=-0.307252\n",
      "[LightGBM] [Info] Start training from score -0.307252\n",
      "aaaaa: 0.8603728313030639\n"
     ]
    }
   ],
   "source": [
    "kfold = StratifiedKFold(n_splits=5, random_state=1024, shuffle=True).split(df_ATP4[feat],df_ATP4[\"ps\"])\n",
    "atp4_vote_answer = []\n",
    "atp4_vote_answer_recall = []\n",
    "for fold, (train_idx, valid_idx) in enumerate(kfold):\n",
    "    df11 = pd.DataFrame()\n",
    "    X_train, y_train = df_ATP4[feat].iloc[train_idx], df_ATP4[\"ps\"].iloc[train_idx]\n",
    "    X_valid, y_valid = df_ATP4[feat].iloc[valid_idx], df_ATP4[\"ps\"].iloc[valid_idx]\n",
    "\n",
    "\n",
    "    rf = RandomForestClassifier(n_estimators=50, random_state=2020)\n",
    "\n",
    "    clf = rf.fit(X_train,y_train)\n",
    "    rf_y = clf.predict(X_valid)\n",
    "    \n",
    "    model=CatBoostClassifier(\n",
    "                loss_function=\"Logloss\",\n",
    "                eval_metric=\"AUC\",\n",
    "                task_type=\"CPU\",\n",
    "                learning_rate=0.1,\n",
    "                iterations=2,\n",
    "                random_seed=2020,\n",
    "                od_type=\"Iter\",\n",
    "                depth=7)\n",
    "\n",
    "    clf = model.fit(X_train,y_train,verbose=500)\n",
    "    cat_y = clf.predict(X_valid)\n",
    "    \n",
    "    model = XGBClassifier(max_depth=30,booster='gbtree',\n",
    "                          random_state=2020)\n",
    "    \n",
    "    model.fit(X_train,y_train,\n",
    "              eval_metric=\"auc\")\n",
    "    xgb_y = model.predict(X_valid)\n",
    "    \n",
    "    train_lgb = lgb.Dataset(data=X_train,label=y_train)\n",
    "\n",
    "    param = {'num_leaves':8, 'num_trees':20, 'objective':'binary',\n",
    "             'boost_from_average': True,'force_row_wise':True,'metric':'auc',\n",
    "            'data_random_seed': 2020,'seed': 2020}\n",
    "    bst = lgb.train(param, train_lgb)\n",
    "    y_pred = bst.predict(X_valid)\n",
    "    df11[\"lgb\"] = y_pred\n",
    "    lgb_y = df11[\"lgb\"].apply(lambda x:lgb_p(x))\n",
    "    \n",
    "    def vote(x):\n",
    "            y = 0\n",
    "            if abs(x) > 2:\n",
    "                y = 1\n",
    "            return y\n",
    "        \n",
    "    df_cat = pd.DataFrame(cat_y)\n",
    "    df_xgb = pd.DataFrame(xgb_y)\n",
    "    df_rf = pd.DataFrame(rf_y)\n",
    "    df_lgb = pd.DataFrame(list(lgb_y))\n",
    "    df = pd.DataFrame(df_lgb[0]*3 + df_xgb[0]*2 + df_rf[0]*2 + df_cat[0]*1)\n",
    "    df[1] = df[0].apply(lambda x : vote(x))\n",
    "    fpr, tpr, thresholds = metrics.roc_curve(y_valid,df[1])\n",
    "    d = metrics.recall_score(y_valid, df[1], average='micro')\n",
    "    test_auc = metrics.auc(fpr, tpr)\n",
    "    atp4_vote_answer.append(test_auc)\n",
    "    atp4_vote_answer_recall.append(d)\n",
    "    print(\"aaaaa:\",test_auc)"
   ]
  },
  {
   "cell_type": "code",
   "execution_count": 29,
   "metadata": {},
   "outputs": [
    {
     "name": "stdout",
     "output_type": "stream",
     "text": [
      "0:\ttotal: 7.07ms\tremaining: 7.07ms\n",
      "1:\ttotal: 9.96ms\tremaining: 0us\n",
      "[LightGBM] [Info] Number of positive: 257, number of negative: 364\n",
      "[LightGBM] [Info] Total Bins 11461\n",
      "[LightGBM] [Info] Number of data points in the train set: 621, number of used features: 56\n",
      "[LightGBM] [Info] [binary:BoostFromScore]: pavg=0.413849 -> initscore=-0.348078\n",
      "[LightGBM] [Info] Start training from score -0.348078\n",
      "aaaaa: 0.7362637362637363\n",
      "0:\ttotal: 14.5ms\tremaining: 14.5ms\n",
      "1:\ttotal: 17.7ms\tremaining: 0us\n",
      "[LightGBM] [Info] Number of positive: 257, number of negative: 364\n",
      "[LightGBM] [Info] Total Bins 11439\n",
      "[LightGBM] [Info] Number of data points in the train set: 621, number of used features: 56\n",
      "[LightGBM] [Info] [binary:BoostFromScore]: pavg=0.413849 -> initscore=-0.348078\n",
      "[LightGBM] [Info] Start training from score -0.348078\n",
      "aaaaa: 0.8010989010989011\n",
      "0:\ttotal: 3.34ms\tremaining: 3.34ms\n",
      "1:\ttotal: 6.25ms\tremaining: 0us\n",
      "[LightGBM] [Info] Number of positive: 258, number of negative: 364\n",
      "[LightGBM] [Info] Total Bins 11467\n",
      "[LightGBM] [Info] Number of data points in the train set: 622, number of used features: 56\n",
      "[LightGBM] [Info] [binary:BoostFromScore]: pavg=0.414791 -> initscore=-0.344194\n",
      "[LightGBM] [Info] Start training from score -0.344194\n",
      "aaaaa: 0.846668956043956\n",
      "0:\ttotal: 10.9ms\tremaining: 10.9ms\n",
      "1:\ttotal: 14.1ms\tremaining: 0us\n",
      "[LightGBM] [Info] Number of positive: 258, number of negative: 364\n",
      "[LightGBM] [Info] Total Bins 11479\n",
      "[LightGBM] [Info] Number of data points in the train set: 622, number of used features: 56\n",
      "[LightGBM] [Info] [binary:BoostFromScore]: pavg=0.414791 -> initscore=-0.344194\n",
      "[LightGBM] [Info] Start training from score -0.344194\n",
      "aaaaa: 0.8200549450549449\n",
      "0:\ttotal: 4.49ms\tremaining: 4.49ms\n",
      "1:\ttotal: 8.21ms\tremaining: 0us\n",
      "[LightGBM] [Info] Number of positive: 258, number of negative: 364\n",
      "[LightGBM] [Info] Total Bins 11456\n",
      "[LightGBM] [Info] Number of data points in the train set: 622, number of used features: 56\n",
      "[LightGBM] [Info] [binary:BoostFromScore]: pavg=0.414791 -> initscore=-0.344194\n",
      "[LightGBM] [Info] Start training from score -0.344194\n",
      "aaaaa: 0.881095467032967\n"
     ]
    }
   ],
   "source": [
    "feat = []\n",
    "for i in df_bsd2.columns:\n",
    "    if i != \"GeneID\":\n",
    "        if i != \"ps\":\n",
    "            feat.append(i)\n",
    "\n",
    "kfold = StratifiedKFold(n_splits=5, random_state=1024, shuffle=True).split(df_bsd2[feat],df_bsd2[\"ps\"])\n",
    "bsd2_vote_answer = []\n",
    "bsd2_vote_answer_recall = []\n",
    "for fold, (train_idx, valid_idx) in enumerate(kfold):\n",
    "    df11 = pd.DataFrame()\n",
    "    X_train, y_train = df_bsd2[feat].iloc[train_idx], df_bsd2[\"ps\"].iloc[train_idx]\n",
    "    X_valid, y_valid = df_bsd2[feat].iloc[valid_idx], df_bsd2[\"ps\"].iloc[valid_idx]\n",
    "\n",
    "    rf = RandomForestClassifier(n_estimators=50, random_state=2020)\n",
    "\n",
    "    clf = rf.fit(X_train,y_train)\n",
    "    rf_y = clf.predict(X_valid)\n",
    "    \n",
    "    model=CatBoostClassifier(\n",
    "                loss_function=\"Logloss\",\n",
    "                eval_metric=\"AUC\",\n",
    "                task_type=\"CPU\",\n",
    "                learning_rate=0.1,\n",
    "                iterations=2,\n",
    "                random_seed=2020,\n",
    "                od_type=\"Iter\",\n",
    "                depth=7)\n",
    "\n",
    "    clf = model.fit(X_train,y_train,verbose=500)\n",
    "    cat_y = clf.predict(X_valid)\n",
    "    \n",
    "    model = XGBClassifier(max_depth=30,booster='gbtree',\n",
    "                          random_state=2020)\n",
    "    \n",
    "    model.fit(X_train,y_train,\n",
    "              eval_metric=\"auc\")\n",
    "    xgb_y = model.predict(X_valid)\n",
    "    \n",
    "    train_lgb = lgb.Dataset(data=X_train,label=y_train)\n",
    "\n",
    "    param = {'num_leaves':8, 'num_trees':20, 'objective':'binary',\n",
    "             'boost_from_average': True,'force_row_wise':True,'metric':'auc',\n",
    "            'data_random_seed': 2020,'seed': 2020}\n",
    "    bst = lgb.train(param, train_lgb)\n",
    "    y_pred = bst.predict(X_valid)\n",
    "    df11[\"lgb\"] = y_pred\n",
    "    lgb_y = df11[\"lgb\"].apply(lambda x:lgb_p(x))\n",
    "    \n",
    "    def vote(x):\n",
    "            y = 0\n",
    "            if abs(x) > 2:\n",
    "                y = 1\n",
    "            return y\n",
    "        \n",
    "    df_cat = pd.DataFrame(cat_y)#2分\n",
    "    df_xgb = pd.DataFrame(xgb_y)#1分\n",
    "    df_rf = pd.DataFrame(rf_y)#1.5分\n",
    "    df_lgb = pd.DataFrame(list(lgb_y))\n",
    "    df = pd.DataFrame(df_lgb[0]*3 + df_xgb[0]*2 + df_rf[0]*2 + df_cat[0]*1)\n",
    "    df[1] = df[0].apply(lambda x : vote(x))\n",
    "    fpr, tpr, thresholds = metrics.roc_curve(y_valid,df[1])\n",
    "    d = metrics.recall_score(y_valid, df[1], average='micro')\n",
    "    test_auc = metrics.auc(fpr, tpr)\n",
    "    bsd2_vote_answer.append(test_auc)\n",
    "    bsd2_vote_answer_recall.append(d)\n",
    "    print(\"aaaaa:\",test_auc)"
   ]
  },
  {
   "cell_type": "code",
   "execution_count": 30,
   "metadata": {},
   "outputs": [
    {
     "name": "stdout",
     "output_type": "stream",
     "text": [
      "0:\ttotal: 8.05ms\tremaining: 8.05ms\n",
      "1:\ttotal: 11.1ms\tremaining: 0us\n",
      "[LightGBM] [Info] Number of positive: 260, number of negative: 368\n",
      "[LightGBM] [Info] Total Bins 11218\n",
      "[LightGBM] [Info] Number of data points in the train set: 628, number of used features: 54\n",
      "[LightGBM] [Info] [binary:BoostFromScore]: pavg=0.414013 -> initscore=-0.347401\n",
      "[LightGBM] [Info] Start training from score -0.347401\n",
      "aaaaa: 0.8203177257525084\n",
      "0:\ttotal: 14ms\tremaining: 14ms\n",
      "1:\ttotal: 73.5ms\tremaining: 0us\n",
      "[LightGBM] [Info] Number of positive: 260, number of negative: 368\n",
      "[LightGBM] [Info] Total Bins 11219\n",
      "[LightGBM] [Info] Number of data points in the train set: 628, number of used features: 54\n",
      "[LightGBM] [Info] [binary:BoostFromScore]: pavg=0.414013 -> initscore=-0.347401\n",
      "[LightGBM] [Info] Start training from score -0.347401\n",
      "aaaaa: 0.7908862876254181\n",
      "0:\ttotal: 20.2ms\tremaining: 20.2ms\n",
      "1:\ttotal: 23.8ms\tremaining: 0us\n",
      "[LightGBM] [Info] Number of positive: 260, number of negative: 368\n",
      "[LightGBM] [Info] Total Bins 11234\n",
      "[LightGBM] [Info] Number of data points in the train set: 628, number of used features: 54\n",
      "[LightGBM] [Info] [binary:BoostFromScore]: pavg=0.414013 -> initscore=-0.347401\n",
      "[LightGBM] [Info] Start training from score -0.347401\n",
      "aaaaa: 0.8411371237458194\n",
      "0:\ttotal: 2.84ms\tremaining: 2.84ms\n",
      "1:\ttotal: 6.82ms\tremaining: 0us\n",
      "[LightGBM] [Info] Number of positive: 260, number of negative: 368\n",
      "[LightGBM] [Info] Total Bins 11216\n",
      "[LightGBM] [Info] Number of data points in the train set: 628, number of used features: 54\n",
      "[LightGBM] [Info] [binary:BoostFromScore]: pavg=0.414013 -> initscore=-0.347401\n",
      "[LightGBM] [Info] Start training from score -0.347401\n",
      "aaaaa: 0.7908862876254181\n",
      "0:\ttotal: 24.4ms\tremaining: 24.4ms\n",
      "1:\ttotal: 27.8ms\tremaining: 0us\n",
      "[LightGBM] [Info] Number of positive: 260, number of negative: 368\n",
      "[LightGBM] [Info] Total Bins 11239\n",
      "[LightGBM] [Info] Number of data points in the train set: 628, number of used features: 54\n",
      "[LightGBM] [Info] [binary:BoostFromScore]: pavg=0.414013 -> initscore=-0.347401\n",
      "[LightGBM] [Info] Start training from score -0.347401\n",
      "aaaaa: 0.8542642140468226\n"
     ]
    }
   ],
   "source": [
    "feat = []\n",
    "for i in df_cps2.columns:\n",
    "    if i != \"GeneID\":\n",
    "        if i != \"ps\":\n",
    "            feat.append(i)\n",
    "\n",
    "kfold = StratifiedKFold(n_splits=5, random_state=1024, shuffle=True).split(df_cps2[feat],df_cps2[\"ps\"])\n",
    "cps2_vote_answer = []\n",
    "cps2_vote_answer_recall = []\n",
    "for fold, (train_idx, valid_idx) in enumerate(kfold):\n",
    "    df11 = pd.DataFrame()\n",
    "    X_train, y_train = df_cps2[feat].iloc[train_idx], df_cps2[\"ps\"].iloc[train_idx]\n",
    "    X_valid, y_valid = df_cps2[feat].iloc[valid_idx], df_cps2[\"ps\"].iloc[valid_idx]\n",
    "\n",
    "\n",
    "    rf = RandomForestClassifier(n_estimators=50, random_state=2020)\n",
    "\n",
    "    clf = rf.fit(X_train,y_train)\n",
    "    rf_y = clf.predict(X_valid)\n",
    "    \n",
    "    model=CatBoostClassifier(\n",
    "                loss_function=\"Logloss\",\n",
    "                eval_metric=\"AUC\",\n",
    "                task_type=\"CPU\",\n",
    "                learning_rate=0.1,\n",
    "                iterations=2,\n",
    "                random_seed=2020,\n",
    "                od_type=\"Iter\",\n",
    "                depth=7)\n",
    "\n",
    "    clf = model.fit(X_train,y_train,verbose=500)\n",
    "    cat_y = clf.predict(X_valid)\n",
    "    \n",
    "    model = XGBClassifier(max_depth=30,booster='gbtree',\n",
    "                          random_state=2020)\n",
    "    \n",
    "    model.fit(X_train,y_train,\n",
    "              eval_metric=\"auc\")\n",
    "    xgb_y = model.predict(X_valid)\n",
    "    \n",
    "    train_lgb = lgb.Dataset(data=X_train,label=y_train)\n",
    "    param = {'num_leaves':8, 'num_trees':20, 'objective':'binary',\n",
    "             'boost_from_average': True,'force_row_wise':True,'metric':'auc',\n",
    "            'data_random_seed': 2020,'seed': 2020}\n",
    "    bst = lgb.train(param, train_lgb)\n",
    "    y_pred = bst.predict(X_valid)\n",
    "    df11[\"lgb\"] = y_pred\n",
    "    lgb_y = df11[\"lgb\"].apply(lambda x:lgb_p(x))\n",
    "    \n",
    "    def vote(x):\n",
    "            y = 0\n",
    "            if abs(x) > 2:\n",
    "                y = 1\n",
    "            return y\n",
    "        \n",
    "    df_cat = pd.DataFrame(cat_y)\n",
    "    df_xgb = pd.DataFrame(xgb_y)\n",
    "    df_rf = pd.DataFrame(rf_y)\n",
    "    df_lgb = pd.DataFrame(list(lgb_y))\n",
    "    df = pd.DataFrame(df_lgb[0]*3 + df_xgb[0]*2 + df_rf[0]*2 + df_cat[0]*1)\n",
    "    df[1] = df[0].apply(lambda x : vote(x))\n",
    "    fpr, tpr, thresholds = metrics.roc_curve(y_valid,df[1])\n",
    "    d = metrics.recall_score(y_valid, df[1], average='micro')\n",
    "    test_auc = metrics.auc(fpr, tpr)\n",
    "    cps2_vote_answer.append(test_auc)\n",
    "    cps2_vote_answer_recall.append(d)\n",
    "    print(\"aaaaa:\",test_auc)"
   ]
  },
  {
   "cell_type": "code",
   "execution_count": 31,
   "metadata": {},
   "outputs": [
    {
     "name": "stdout",
     "output_type": "stream",
     "text": [
      "0:\ttotal: 4.52ms\tremaining: 4.52ms\n",
      "1:\ttotal: 7.7ms\tremaining: 0us\n",
      "[LightGBM] [Info] Number of positive: 258, number of negative: 358\n",
      "[LightGBM] [Info] Total Bins 11040\n",
      "[LightGBM] [Info] Number of data points in the train set: 616, number of used features: 54\n",
      "[LightGBM] [Info] [binary:BoostFromScore]: pavg=0.418831 -> initscore=-0.327573\n",
      "[LightGBM] [Info] Start training from score -0.327573\n",
      "aaaaa: 0.8444444444444443\n",
      "0:\ttotal: 2.87ms\tremaining: 2.87ms\n",
      "1:\ttotal: 6.33ms\tremaining: 0us\n",
      "[LightGBM] [Info] Number of positive: 259, number of negative: 358\n",
      "[LightGBM] [Info] Total Bins 11069\n",
      "[LightGBM] [Info] Number of data points in the train set: 617, number of used features: 54\n",
      "[LightGBM] [Info] [binary:BoostFromScore]: pavg=0.419773 -> initscore=-0.323705\n",
      "[LightGBM] [Info] Start training from score -0.323705\n",
      "aaaaa: 0.8439236111111112\n",
      "0:\ttotal: 3.7ms\tremaining: 3.7ms\n",
      "1:\ttotal: 25.1ms\tremaining: 0us\n",
      "[LightGBM] [Info] Number of positive: 259, number of negative: 358\n",
      "[LightGBM] [Info] Total Bins 11058\n",
      "[LightGBM] [Info] Number of data points in the train set: 617, number of used features: 54\n",
      "[LightGBM] [Info] [binary:BoostFromScore]: pavg=0.419773 -> initscore=-0.323705\n",
      "[LightGBM] [Info] Start training from score -0.323705\n",
      "aaaaa: 0.825\n",
      "0:\ttotal: 10.7ms\tremaining: 10.7ms\n",
      "1:\ttotal: 24.3ms\tremaining: 0us\n",
      "[LightGBM] [Info] Number of positive: 258, number of negative: 359\n",
      "[LightGBM] [Info] Total Bins 11045\n",
      "[LightGBM] [Info] Number of data points in the train set: 617, number of used features: 54\n",
      "[LightGBM] [Info] [binary:BoostFromScore]: pavg=0.418152 -> initscore=-0.330363\n",
      "[LightGBM] [Info] Start training from score -0.330363\n",
      "aaaaa: 0.806828003457217\n",
      "0:\ttotal: 3.6ms\tremaining: 3.6ms\n",
      "1:\ttotal: 21.6ms\tremaining: 0us\n",
      "[LightGBM] [Info] Number of positive: 258, number of negative: 359\n",
      "[LightGBM] [Info] Total Bins 11048\n",
      "[LightGBM] [Info] Number of data points in the train set: 617, number of used features: 54\n",
      "[LightGBM] [Info] [binary:BoostFromScore]: pavg=0.418152 -> initscore=-0.330363\n",
      "[LightGBM] [Info] Start training from score -0.330363\n",
      "aaaaa: 0.8382022471910112\n"
     ]
    }
   ],
   "source": [
    "feat = []\n",
    "for i in df_hcf136.columns:\n",
    "    if i != \"GeneID\":\n",
    "        if i != \"ps\":\n",
    "            feat.append(i)\n",
    "\n",
    "kfold = StratifiedKFold(n_splits=5, random_state=1024, shuffle=True).split(df_hcf136[feat],df_hcf136[\"ps\"])\n",
    "hcf136_vote_answer = []\n",
    "hcf136_vote_answer_recall = []\n",
    "for fold, (train_idx, valid_idx) in enumerate(kfold):\n",
    "    df11 = pd.DataFrame()\n",
    "    X_train, y_train = df_hcf136[feat].iloc[train_idx], df_hcf136[\"ps\"].iloc[train_idx]\n",
    "    X_valid, y_valid = df_hcf136[feat].iloc[valid_idx], df_hcf136[\"ps\"].iloc[valid_idx]\n",
    "\n",
    "    rf = RandomForestClassifier(n_estimators=50, random_state=2020)\n",
    "\n",
    "    clf = rf.fit(X_train,y_train)\n",
    "    rf_y = clf.predict(X_valid)\n",
    "    \n",
    "    model=CatBoostClassifier(\n",
    "                loss_function=\"Logloss\",\n",
    "                eval_metric=\"AUC\",\n",
    "                task_type=\"CPU\",\n",
    "                learning_rate=0.1,\n",
    "                iterations=2,\n",
    "                random_seed=2020,\n",
    "                od_type=\"Iter\",\n",
    "                depth=7)\n",
    "\n",
    "    clf = model.fit(X_train,y_train,verbose=500)\n",
    "    cat_y = clf.predict(X_valid)\n",
    "    \n",
    "    model = XGBClassifier(max_depth=30,booster='gbtree',\n",
    "                          random_state=2020)\n",
    "    \n",
    "    model.fit(X_train,y_train,\n",
    "              eval_metric=\"auc\")\n",
    "    xgb_y = model.predict(X_valid)\n",
    "    \n",
    "    train_lgb = lgb.Dataset(data=X_train,label=y_train)\n",
    "    param = {'num_leaves':8, 'num_trees':20, 'objective':'binary',\n",
    "             'boost_from_average': True,'force_row_wise':True,'metric':'auc',\n",
    "            'data_random_seed': 2020,'seed': 2020}\n",
    "    bst = lgb.train(param, train_lgb)\n",
    "    y_pred = bst.predict(X_valid)\n",
    "    df11[\"lgb\"] = y_pred\n",
    "    lgb_y = df11[\"lgb\"].apply(lambda x:lgb_p(x))\n",
    "    \n",
    "    def vote(x):\n",
    "            y = 0\n",
    "            if abs(x) > 2:\n",
    "                y = 1\n",
    "            return y\n",
    "        \n",
    "    df_cat = pd.DataFrame(cat_y)\n",
    "    df_xgb = pd.DataFrame(xgb_y)\n",
    "    df_rf = pd.DataFrame(rf_y)\n",
    "    df_lgb = pd.DataFrame(list(lgb_y))\n",
    "    df = pd.DataFrame(df_lgb[0]*3 + df_xgb[0]*2 + df_rf[0]*2 + df_cat[0]*1)\n",
    "    df[1] = df[0].apply(lambda x : vote(x))\n",
    "    fpr, tpr, thresholds = metrics.roc_curve(y_valid,df[1])\n",
    "    d = metrics.recall_score(y_valid, df[1], average='micro')\n",
    "    test_auc = metrics.auc(fpr, tpr)\n",
    "    hcf136_vote_answer.append(test_auc)\n",
    "    hcf136_vote_answer_recall.append(d)\n",
    "    print(\"aaaaa:\",test_auc)"
   ]
  },
  {
   "cell_type": "code",
   "execution_count": 32,
   "metadata": {},
   "outputs": [
    {
     "name": "stdout",
     "output_type": "stream",
     "text": [
      "0:\ttotal: 3.48ms\tremaining: 3.48ms\n",
      "1:\ttotal: 6.71ms\tremaining: 0us\n",
      "[LightGBM] [Info] Number of positive: 262, number of negative: 390\n",
      "[LightGBM] [Info] Total Bins 12065\n",
      "[LightGBM] [Info] Number of data points in the train set: 652, number of used features: 56\n",
      "[LightGBM] [Info] [binary:BoostFromScore]: pavg=0.401840 -> initscore=-0.397802\n",
      "[LightGBM] [Info] Start training from score -0.397802\n",
      "aaaaa: 0.8054160125588697\n",
      "0:\ttotal: 4.23ms\tremaining: 4.23ms\n",
      "1:\ttotal: 8.88ms\tremaining: 0us\n",
      "[LightGBM] [Info] Number of positive: 262, number of negative: 390\n",
      "[LightGBM] [Info] Total Bins 12061\n",
      "[LightGBM] [Info] Number of data points in the train set: 652, number of used features: 56\n",
      "[LightGBM] [Info] [binary:BoostFromScore]: pavg=0.401840 -> initscore=-0.397802\n",
      "[LightGBM] [Info] Start training from score -0.397802\n",
      "aaaaa: 0.787519623233909\n",
      "0:\ttotal: 10.1ms\tremaining: 10.1ms\n",
      "1:\ttotal: 64.5ms\tremaining: 0us\n",
      "[LightGBM] [Info] Number of positive: 262, number of negative: 390\n",
      "[LightGBM] [Info] Total Bins 12067\n",
      "[LightGBM] [Info] Number of data points in the train set: 652, number of used features: 56\n",
      "[LightGBM] [Info] [binary:BoostFromScore]: pavg=0.401840 -> initscore=-0.397802\n",
      "[LightGBM] [Info] Start training from score -0.397802\n",
      "aaaaa: 0.7850078492935635\n",
      "0:\ttotal: 14ms\tremaining: 14ms\n",
      "1:\ttotal: 17.1ms\tremaining: 0us\n",
      "[LightGBM] [Info] Number of positive: 261, number of negative: 391\n",
      "[LightGBM] [Info] Total Bins 12074\n",
      "[LightGBM] [Info] Number of data points in the train set: 652, number of used features: 56\n",
      "[LightGBM] [Info] [binary:BoostFromScore]: pavg=0.400307 -> initscore=-0.404187\n",
      "[LightGBM] [Info] Start training from score -0.404187\n",
      "aaaaa: 0.8475476413620744\n",
      "0:\ttotal: 8.04ms\tremaining: 8.04ms\n",
      "1:\ttotal: 15.8ms\tremaining: 0us\n",
      "[LightGBM] [Info] Number of positive: 261, number of negative: 391\n",
      "[LightGBM] [Info] Total Bins 12060\n",
      "[LightGBM] [Info] Number of data points in the train set: 652, number of used features: 56\n",
      "[LightGBM] [Info] [binary:BoostFromScore]: pavg=0.400307 -> initscore=-0.404187\n",
      "[LightGBM] [Info] Start training from score -0.404187\n",
      "aaaaa: 0.8675413933145892\n"
     ]
    }
   ],
   "source": [
    "feat = []\n",
    "for i in df_pet2.columns:\n",
    "    if i != \"GeneID\":\n",
    "        if i != \"ps\":\n",
    "            feat.append(i)\n",
    "\n",
    "kfold = StratifiedKFold(n_splits=5, random_state=1024, shuffle=True).split(df_pet2[feat],df_pet2[\"ps\"])\n",
    "pet2_vote_answer = []\n",
    "pet2_vote_answer_recall = []\n",
    "for fold, (train_idx, valid_idx) in enumerate(kfold):\n",
    "    df11 = pd.DataFrame()\n",
    "    X_train, y_train = df_pet2[feat].iloc[train_idx], df_pet2[\"ps\"].iloc[train_idx]\n",
    "    X_valid, y_valid = df_pet2[feat].iloc[valid_idx], df_pet2[\"ps\"].iloc[valid_idx]\n",
    "\n",
    "    rf = RandomForestClassifier(n_estimators=50, random_state=2020)\n",
    "\n",
    "    clf = rf.fit(X_train,y_train)\n",
    "    rf_y = clf.predict(X_valid)\n",
    "    \n",
    "    model=CatBoostClassifier(\n",
    "                loss_function=\"Logloss\",\n",
    "                eval_metric=\"AUC\",\n",
    "                task_type=\"CPU\",\n",
    "                learning_rate=0.1,\n",
    "                iterations=2,\n",
    "                random_seed=2020,\n",
    "                od_type=\"Iter\",\n",
    "                depth=7)\n",
    "\n",
    "    clf = model.fit(X_train,y_train,verbose=500)\n",
    "    cat_y = clf.predict(X_valid)\n",
    "    \n",
    "    model = XGBClassifier(max_depth=30,booster='gbtree',\n",
    "                          random_state=2020)\n",
    "    \n",
    "    model.fit(X_train,y_train,\n",
    "              eval_metric=\"auc\")\n",
    "    xgb_y = model.predict(X_valid)\n",
    "    \n",
    "    train_lgb = lgb.Dataset(data=X_train,label=y_train)\n",
    "    param = {'num_leaves':8, 'num_trees':20, 'objective':'binary',\n",
    "             'boost_from_average': True,'force_row_wise':True,'metric':'auc',\n",
    "            'data_random_seed': 2020,'seed': 2020}\n",
    "    bst = lgb.train(param, train_lgb)\n",
    "    y_pred = bst.predict(X_valid)\n",
    "    df11[\"lgb\"] = y_pred\n",
    "    lgb_y = df11[\"lgb\"].apply(lambda x:lgb_p(x))\n",
    "    \n",
    "    def vote(x):\n",
    "            y = 0\n",
    "            if abs(x) > 2:\n",
    "                y = 1\n",
    "            return y\n",
    "        \n",
    "    df_cat = pd.DataFrame(cat_y)\n",
    "    df_xgb = pd.DataFrame(xgb_y)\n",
    "    df_rf = pd.DataFrame(rf_y)\n",
    "    df_lgb = pd.DataFrame(list(lgb_y))\n",
    "    df = pd.DataFrame(df_lgb[0]*3 + df_xgb[0]*2 + df_rf[0]*2 + df_cat[0]*1)\n",
    "    df[1] = df[0].apply(lambda x : vote(x))\n",
    "    fpr, tpr, thresholds = metrics.roc_curve(y_valid,df[1])\n",
    "    d = metrics.recall_score(y_valid, df[1], average='micro')\n",
    "    test_auc = metrics.auc(fpr, tpr)\n",
    "    pet2_vote_answer.append(test_auc)\n",
    "    pet2_vote_answer_recall.append(d)\n",
    "    print(\"aaaaa:\",test_auc)"
   ]
  },
  {
   "cell_type": "code",
   "execution_count": 33,
   "metadata": {},
   "outputs": [
    {
     "name": "stdout",
     "output_type": "stream",
     "text": [
      "0:\ttotal: 4.08ms\tremaining: 4.08ms\n",
      "1:\ttotal: 7.61ms\tremaining: 0us\n",
      "[LightGBM] [Info] Number of positive: 268, number of negative: 406\n",
      "[LightGBM] [Info] Total Bins 12020\n",
      "[LightGBM] [Info] Number of data points in the train set: 674, number of used features: 55\n",
      "[LightGBM] [Info] [binary:BoostFromScore]: pavg=0.397626 -> initscore=-0.415366\n",
      "[LightGBM] [Info] Start training from score -0.415366\n",
      "aaaaa: 0.8439420544337137\n",
      "0:\ttotal: 22.5ms\tremaining: 22.5ms\n",
      "1:\ttotal: 25.4ms\tremaining: 0us\n",
      "[LightGBM] [Info] Number of positive: 268, number of negative: 406\n",
      "[LightGBM] [Info] Total Bins 12013\n",
      "[LightGBM] [Info] Number of data points in the train set: 674, number of used features: 55\n",
      "[LightGBM] [Info] [binary:BoostFromScore]: pavg=0.397626 -> initscore=-0.415366\n",
      "[LightGBM] [Info] Start training from score -0.415366\n",
      "aaaaa: 0.8290166812993853\n",
      "0:\ttotal: 14.3ms\tremaining: 14.3ms\n",
      "1:\ttotal: 17.4ms\tremaining: 0us\n",
      "[LightGBM] [Info] Number of positive: 268, number of negative: 406\n",
      "[LightGBM] [Info] Total Bins 12034\n",
      "[LightGBM] [Info] Number of data points in the train set: 674, number of used features: 55\n",
      "[LightGBM] [Info] [binary:BoostFromScore]: pavg=0.397626 -> initscore=-0.415366\n",
      "[LightGBM] [Info] Start training from score -0.415366\n",
      "aaaaa: 0.8040678958150425\n",
      "0:\ttotal: 3.46ms\tremaining: 3.46ms\n",
      "1:\ttotal: 6.37ms\tremaining: 0us\n",
      "[LightGBM] [Info] Number of positive: 268, number of negative: 407\n",
      "[LightGBM] [Info] Total Bins 12044\n",
      "[LightGBM] [Info] Number of data points in the train set: 675, number of used features: 55\n",
      "[LightGBM] [Info] [binary:BoostFromScore]: pavg=0.397037 -> initscore=-0.417826\n",
      "[LightGBM] [Info] Start training from score -0.417826\n",
      "aaaaa: 0.7888281365449978\n",
      "0:\ttotal: 8.49ms\tremaining: 8.49ms\n",
      "1:\ttotal: 11.4ms\tremaining: 0us\n",
      "[LightGBM] [Info] Number of positive: 268, number of negative: 407\n",
      "[LightGBM] [Info] Total Bins 12029\n",
      "[LightGBM] [Info] Number of data points in the train set: 675, number of used features: 55\n",
      "[LightGBM] [Info] [binary:BoostFromScore]: pavg=0.397037 -> initscore=-0.417826\n",
      "[LightGBM] [Info] Start training from score -0.417826\n",
      "aaaaa: 0.8957440520171421\n"
     ]
    }
   ],
   "source": [
    "feat = []\n",
    "for i in df_pyg56.columns:\n",
    "    if i != \"GeneID\":\n",
    "        if i != \"ps\":\n",
    "            feat.append(i)\n",
    "\n",
    "kfold = StratifiedKFold(n_splits=5, random_state=1024, shuffle=True).split(df_pyg56[feat],df_pyg56[\"ps\"])\n",
    "pyg56_vote_answer = []\n",
    "pyg56_vote_answer_recall = []\n",
    "for fold, (train_idx, valid_idx) in enumerate(kfold):\n",
    "    df11 = pd.DataFrame()\n",
    "    X_train, y_train = df_pyg56[feat].iloc[train_idx], df_pyg56[\"ps\"].iloc[train_idx]\n",
    "    X_valid, y_valid = df_pyg56[feat].iloc[valid_idx], df_pyg56[\"ps\"].iloc[valid_idx]\n",
    "\n",
    "    rf = RandomForestClassifier(n_estimators=50, random_state=2020)\n",
    "\n",
    "    clf = rf.fit(X_train,y_train)\n",
    "    rf_y = clf.predict(X_valid)\n",
    "    \n",
    "    model=CatBoostClassifier(\n",
    "                loss_function=\"Logloss\",\n",
    "                eval_metric=\"AUC\",\n",
    "                task_type=\"CPU\",\n",
    "                learning_rate=0.1,\n",
    "                iterations=2,\n",
    "                random_seed=2020,\n",
    "                od_type=\"Iter\",\n",
    "                depth=7)\n",
    "\n",
    "    clf = model.fit(X_train,y_train,verbose=500)\n",
    "    cat_y = clf.predict(X_valid)\n",
    "    \n",
    "    model = XGBClassifier(max_depth=30,booster='gbtree',\n",
    "                          random_state=2020)\n",
    "    \n",
    "    model.fit(X_train,y_train,\n",
    "              eval_metric=\"auc\")\n",
    "    xgb_y = model.predict(X_valid)\n",
    "    \n",
    "    train_lgb = lgb.Dataset(data=X_train,label=y_train)\n",
    "    param = {'num_leaves':8, 'num_trees':20, 'objective':'binary',\n",
    "             'boost_from_average': True,'force_row_wise':True,'metric':'auc',\n",
    "            'data_random_seed': 2020,'seed': 2020}\n",
    "    bst = lgb.train(param, train_lgb)\n",
    "    y_pred = bst.predict(X_valid)\n",
    "    df11[\"lgb\"] = y_pred\n",
    "    lgb_y = df11[\"lgb\"].apply(lambda x:lgb_p(x))\n",
    "    \n",
    "    def vote(x):\n",
    "            y = 0\n",
    "            if abs(x) > 2:\n",
    "                y = 1\n",
    "            return y\n",
    "        \n",
    "    df_cat = pd.DataFrame(cat_y)\n",
    "    df_xgb = pd.DataFrame(xgb_y)\n",
    "    df_rf = pd.DataFrame(rf_y)\n",
    "    df_lgb = pd.DataFrame(list(lgb_y))\n",
    "    df = pd.DataFrame(df_lgb[0]*3 + df_xgb[0]*2 + df_rf[0]*2 + df_cat[0]*1)\n",
    "    df[1] = df[0].apply(lambda x : vote(x))\n",
    "    fpr, tpr, thresholds = metrics.roc_curve(y_valid,df[1])\n",
    "    d = metrics.recall_score(y_valid, df[1], average='micro')\n",
    "    test_auc = metrics.auc(fpr, tpr)\n",
    "    pyg56_vote_answer.append(test_auc)\n",
    "    pyg56_vote_answer_recall.append(d)\n",
    "    print(\"aaaaa:\",test_auc)"
   ]
  },
  {
   "cell_type": "code",
   "execution_count": 34,
   "metadata": {},
   "outputs": [],
   "source": [
    "df_box = pd.DataFrame()"
   ]
  },
  {
   "cell_type": "code",
   "execution_count": 35,
   "metadata": {},
   "outputs": [],
   "source": [
    "df_box[\"all mutants\"] = vote_answer\n",
    "df_box[\"ATP4\"] = atp4_vote_answer\n",
    "df_box[\"bsd2\"] = bsd2_vote_answer\n",
    "df_box[\"hcf136\"] = hcf136_vote_answer\n",
    "df_box[\"pet2\"] = pet2_vote_answer\n",
    "df_box[\"pyg56\"] = pyg56_vote_answer\n",
    "df_box[\"cps2\"] = cps2_vote_answer"
   ]
  },
  {
   "cell_type": "code",
   "execution_count": 36,
   "metadata": {},
   "outputs": [
    {
     "data": {
      "text/html": [
       "<div>\n",
       "<style scoped>\n",
       "    .dataframe tbody tr th:only-of-type {\n",
       "        vertical-align: middle;\n",
       "    }\n",
       "\n",
       "    .dataframe tbody tr th {\n",
       "        vertical-align: top;\n",
       "    }\n",
       "\n",
       "    .dataframe thead th {\n",
       "        text-align: right;\n",
       "    }\n",
       "</style>\n",
       "<table border=\"1\" class=\"dataframe\">\n",
       "  <thead>\n",
       "    <tr style=\"text-align: right;\">\n",
       "      <th></th>\n",
       "      <th>all mutants</th>\n",
       "      <th>ATP4</th>\n",
       "      <th>bsd2</th>\n",
       "      <th>hcf136</th>\n",
       "      <th>pet2</th>\n",
       "      <th>pyg56</th>\n",
       "      <th>cps2</th>\n",
       "    </tr>\n",
       "  </thead>\n",
       "  <tbody>\n",
       "    <tr>\n",
       "      <th>0</th>\n",
       "      <td>0.942200</td>\n",
       "      <td>0.877362</td>\n",
       "      <td>0.736264</td>\n",
       "      <td>0.844444</td>\n",
       "      <td>0.805416</td>\n",
       "      <td>0.843942</td>\n",
       "      <td>0.820318</td>\n",
       "    </tr>\n",
       "    <tr>\n",
       "      <th>1</th>\n",
       "      <td>0.963945</td>\n",
       "      <td>0.879937</td>\n",
       "      <td>0.801099</td>\n",
       "      <td>0.843924</td>\n",
       "      <td>0.787520</td>\n",
       "      <td>0.829017</td>\n",
       "      <td>0.790886</td>\n",
       "    </tr>\n",
       "    <tr>\n",
       "      <th>2</th>\n",
       "      <td>0.940236</td>\n",
       "      <td>0.830196</td>\n",
       "      <td>0.846669</td>\n",
       "      <td>0.825000</td>\n",
       "      <td>0.785008</td>\n",
       "      <td>0.804068</td>\n",
       "      <td>0.841137</td>\n",
       "    </tr>\n",
       "    <tr>\n",
       "      <th>3</th>\n",
       "      <td>0.964927</td>\n",
       "      <td>0.830749</td>\n",
       "      <td>0.820055</td>\n",
       "      <td>0.806828</td>\n",
       "      <td>0.847548</td>\n",
       "      <td>0.788828</td>\n",
       "      <td>0.790886</td>\n",
       "    </tr>\n",
       "    <tr>\n",
       "      <th>4</th>\n",
       "      <td>0.923681</td>\n",
       "      <td>0.860373</td>\n",
       "      <td>0.881095</td>\n",
       "      <td>0.838202</td>\n",
       "      <td>0.867541</td>\n",
       "      <td>0.895744</td>\n",
       "      <td>0.854264</td>\n",
       "    </tr>\n",
       "  </tbody>\n",
       "</table>\n",
       "</div>"
      ],
      "text/plain": [
       "   all mutants      ATP4      bsd2    hcf136      pet2     pyg56      cps2\n",
       "0     0.942200  0.877362  0.736264  0.844444  0.805416  0.843942  0.820318\n",
       "1     0.963945  0.879937  0.801099  0.843924  0.787520  0.829017  0.790886\n",
       "2     0.940236  0.830196  0.846669  0.825000  0.785008  0.804068  0.841137\n",
       "3     0.964927  0.830749  0.820055  0.806828  0.847548  0.788828  0.790886\n",
       "4     0.923681  0.860373  0.881095  0.838202  0.867541  0.895744  0.854264"
      ]
     },
     "execution_count": 36,
     "metadata": {},
     "output_type": "execute_result"
    }
   ],
   "source": [
    "df_box"
   ]
  },
  {
   "cell_type": "code",
   "execution_count": 37,
   "metadata": {},
   "outputs": [
    {
     "data": {
      "text/plain": [
       "(0.5, 1.0)"
      ]
     },
     "execution_count": 37,
     "metadata": {},
     "output_type": "execute_result"
    },
    {
     "name": "stderr",
     "output_type": "stream",
     "text": [
      "findfont: Font family ['Times New Roman'] not found. Falling back to DejaVu Sans.\n",
      "findfont: Font family ['Times New Roman'] not found. Falling back to DejaVu Sans.\n"
     ]
    },
    {
     "data": {
      "image/png": "[encoded data removed]",
      "text/plain": [
       "<Figure size 1260x720 with 1 Axes>"
      ]
     },
     "metadata": {
      "needs_background": "light"
     },
     "output_type": "display_data"
    }
   ],
   "source": [
    "plt.figure(figsize=(7,4),dpi=180)\n",
    "box_1, box_2, box_3, box_4, box_5, box_6, box_7 = df_box[\"all mutants\"],df_box['ATP4'], df_box['bsd2'], df_box['hcf136'],df_box[\"pet2\"],df_box[\"pyg56\"],df_box[\"cps2\"]\n",
    "plt.subplot(224)\n",
    "plt.tick_params(direction='in')\n",
    "plt.tick_params(labelsize = 5)\n",
    "color_list = [\"darkorange\",\"aquamarine\",\"yellow\",\"lightpink\",\"seagreen\",\"dodgerblue\",\"cyan\"]\n",
    "medianprops = dict(linestyle='-', linewidth=0.5, color='black')\n",
    "labels = ['all mutants','atp4','bsd2','hcf136',\"pet2\",\"pyg56\",\"cps2\"]\n",
    "bp = plt.boxplot([box_1, box_2, box_3, box_4, box_5, box_6, box_7],notch=False, labels = labels,patch_artist = True,\n",
    "            boxprops = {'color':'black','linewidth':'0.5'},\n",
    "            capprops={'color':'black','linewidth':'0.5'},widths=0.5,medianprops=medianprops,whiskerprops={'linewidth':'0.5'},showfliers=False)\n",
    "[bp['boxes'][i].set(facecolor=color_list[i], alpha=0.7) for i in range(7)]\n",
    "plt.xticks(fontproperties = 'Times New Roman',fontstyle = \"italic\",size =5,fontweight = \"bold\") \n",
    "plt.yticks(fontproperties = 'Times New Roman',size =5,fontweight = \"bold\") \n",
    "plt.xticks(rotation=30)\n",
    "plt.ylabel('AUC',fontsize=8)\n",
    "plt.ylim((0.5, 1))"
   ]
  },
  {
   "cell_type": "code",
   "execution_count": null,
   "metadata": {},
   "outputs": [],
   "source": []
  }
 ],
 "metadata": {
  "kernelspec": {
   "display_name": "Python 3",
   "language": "python",
   "name": "python3"
  },
  "language_info": {
   "codemirror_mode": {
    "name": "ipython",
    "version": 3
   },
   "file_extension": ".py",
   "mimetype": "text/x-python",
   "name": "python",
   "nbconvert_exporter": "python",
   "pygments_lexer": "ipython3",
   "version": "3.8.8"
  }
 },
 "nbformat": 4,
 "nbformat_minor": 4
}
